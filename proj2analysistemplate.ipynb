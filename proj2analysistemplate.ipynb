{
 "cells": [
  {
   "cell_type": "markdown",
   "id": "75a8ffb3-84a4-48df-bf33-0f9ce0efdfa3",
   "metadata": {},
   "source": [
    "## Category X Analysis Workbook Template\n",
    "**Written by: INSERT NAME**"
   ]
  },
  {
   "cell_type": "code",
   "execution_count": 1,
   "id": "8a71bdf8-7340-4170-8501-aaa9dc178371",
   "metadata": {},
   "outputs": [
    {
     "name": "stdout",
     "output_type": "stream",
     "text": [
      "Requirement already satisfied: Pint>=0.8.1 in /srv/conda/lib/python3.11/site-packages (from -r requirements.txt (line 2)) (0.24.4)\n",
      "Requirement already satisfied: numpy>=1.15.0 in /srv/conda/lib/python3.11/site-packages (from -r requirements.txt (line 6)) (2.2.3)\n",
      "Requirement already satisfied: pandas>=0.23.3 in /srv/conda/lib/python3.11/site-packages (from -r requirements.txt (line 11)) (2.2.3)\n",
      "Requirement already satisfied: requests>=2.20.0 in /srv/conda/lib/python3.11/site-packages (from -r requirements.txt (line 15)) (2.32.3)\n",
      "Requirement already satisfied: scipy>=1.1.0 in /srv/conda/lib/python3.11/site-packages (from -r requirements.txt (line 18)) (1.15.2)\n",
      "Requirement already satisfied: gspread in /srv/conda/lib/python3.11/site-packages (from -r requirements.txt (line 20)) (5.12.4)\n",
      "Collecting gspread (from -r requirements.txt (line 20))\n",
      "  Using cached gspread-6.2.0-py3-none-any.whl.metadata (11 kB)\n",
      "Requirement already satisfied: gspread_pandas in /srv/conda/lib/python3.11/site-packages (from -r requirements.txt (line 22)) (3.3.0)\n",
      "Requirement already satisfied: bottleneck>=1.3.6 in /srv/conda/lib/python3.11/site-packages (from -r requirements.txt (line 24)) (1.4.2)\n",
      "Requirement already satisfied: eep153_tools in /srv/conda/lib/python3.11/site-packages (from -r requirements.txt (line 26)) (0.12.4)\n",
      "Requirement already satisfied: fooddatacentral in /srv/conda/lib/python3.11/site-packages (from -r requirements.txt (line 28)) (1.0.10)\n",
      "Requirement already satisfied: python-gnupg in /srv/conda/lib/python3.11/site-packages (from -r requirements.txt (line 30)) (0.5.4)\n",
      "Requirement already satisfied: platformdirs>=2.1.0 in /srv/conda/lib/python3.11/site-packages (from Pint>=0.8.1->-r requirements.txt (line 2)) (4.3.6)\n",
      "Requirement already satisfied: typing-extensions>=4.0.0 in /srv/conda/lib/python3.11/site-packages (from Pint>=0.8.1->-r requirements.txt (line 2)) (4.12.2)\n",
      "Requirement already satisfied: flexcache>=0.3 in /srv/conda/lib/python3.11/site-packages (from Pint>=0.8.1->-r requirements.txt (line 2)) (0.3)\n",
      "Requirement already satisfied: flexparser>=0.4 in /srv/conda/lib/python3.11/site-packages (from Pint>=0.8.1->-r requirements.txt (line 2)) (0.4)\n",
      "Requirement already satisfied: python-dateutil>=2.8.2 in /srv/conda/lib/python3.11/site-packages (from pandas>=0.23.3->-r requirements.txt (line 11)) (2.9.0.post0)\n",
      "Requirement already satisfied: pytz>=2020.1 in /srv/conda/lib/python3.11/site-packages (from pandas>=0.23.3->-r requirements.txt (line 11)) (2024.1)\n",
      "Requirement already satisfied: tzdata>=2022.7 in /srv/conda/lib/python3.11/site-packages (from pandas>=0.23.3->-r requirements.txt (line 11)) (2025.1)\n",
      "Requirement already satisfied: charset_normalizer<4,>=2 in /srv/conda/lib/python3.11/site-packages (from requests>=2.20.0->-r requirements.txt (line 15)) (3.4.0)\n",
      "Requirement already satisfied: idna<4,>=2.5 in /srv/conda/lib/python3.11/site-packages (from requests>=2.20.0->-r requirements.txt (line 15)) (3.10)\n",
      "Requirement already satisfied: urllib3<3,>=1.21.1 in /srv/conda/lib/python3.11/site-packages (from requests>=2.20.0->-r requirements.txt (line 15)) (2.3.0)\n",
      "Requirement already satisfied: certifi>=2017.4.17 in /srv/conda/lib/python3.11/site-packages (from requests>=2.20.0->-r requirements.txt (line 15)) (2024.12.14)\n",
      "Requirement already satisfied: google-auth>=1.12.0 in /srv/conda/lib/python3.11/site-packages (from gspread->-r requirements.txt (line 20)) (2.38.0)\n",
      "Requirement already satisfied: google-auth-oauthlib>=0.4.1 in /srv/conda/lib/python3.11/site-packages (from gspread->-r requirements.txt (line 20)) (1.2.1)\n",
      "Requirement already satisfied: decorator in /srv/conda/lib/python3.11/site-packages (from gspread_pandas->-r requirements.txt (line 22)) (5.1.1)\n",
      "Requirement already satisfied: cachetools<6.0,>=2.0.0 in /srv/conda/lib/python3.11/site-packages (from google-auth>=1.12.0->gspread->-r requirements.txt (line 20)) (5.5.1)\n",
      "Requirement already satisfied: pyasn1-modules>=0.2.1 in /srv/conda/lib/python3.11/site-packages (from google-auth>=1.12.0->gspread->-r requirements.txt (line 20)) (0.4.1)\n",
      "Requirement already satisfied: rsa<5,>=3.1.4 in /srv/conda/lib/python3.11/site-packages (from google-auth>=1.12.0->gspread->-r requirements.txt (line 20)) (4.9)\n",
      "Requirement already satisfied: requests-oauthlib>=0.7.0 in /srv/conda/lib/python3.11/site-packages (from google-auth-oauthlib>=0.4.1->gspread->-r requirements.txt (line 20)) (2.0.0)\n",
      "Requirement already satisfied: six>=1.5 in /srv/conda/lib/python3.11/site-packages (from python-dateutil>=2.8.2->pandas>=0.23.3->-r requirements.txt (line 11)) (1.17.0)\n",
      "Requirement already satisfied: pyasn1<0.7.0,>=0.4.6 in /srv/conda/lib/python3.11/site-packages (from pyasn1-modules>=0.2.1->google-auth>=1.12.0->gspread->-r requirements.txt (line 20)) (0.6.1)\n",
      "Requirement already satisfied: oauthlib>=3.0.0 in /srv/conda/lib/python3.11/site-packages (from requests-oauthlib>=0.7.0->google-auth-oauthlib>=0.4.1->gspread->-r requirements.txt (line 20)) (3.2.2)\n",
      "Note: you may need to restart the kernel to use updated packages.\n"
     ]
    }
   ],
   "source": [
    "%pip install -r requirements.txt --upgrade"
   ]
  },
  {
   "cell_type": "code",
   "execution_count": 2,
   "id": "d21fb9da-19fc-47ca-9c99-e0c15107feb8",
   "metadata": {},
   "outputs": [],
   "source": [
    "from p2utilityfunctions import solvercomplete, nutrition\n",
    "#for documentation on any function run \"function?\", ex nutrition?\n",
    "import numpy as np\n",
    "import pandas as pd\n",
    "from eep153_tools.sheets import read_sheets"
   ]
  },
  {
   "cell_type": "markdown",
   "id": "fab4c36c-2113-43d5-943e-460341a46cda",
   "metadata": {},
   "source": [
    "### Part 1: Setting constraints and general variables"
   ]
  },
  {
   "cell_type": "code",
   "execution_count": 3,
   "id": "7f470097-4092-4c41-aa5e-57e672af8444",
   "metadata": {},
   "outputs": [],
   "source": [
    "age = 25 # change this depending on prison average\n",
    "sex = \"F\" #change this as well; M for Male and F for Female\n",
    "activity_level = \"Moderately Active\" #change this; can be Moderately Active, Sedentary, or Active"
   ]
  },
  {
   "cell_type": "code",
   "execution_count": null,
   "id": "00d92e84-c9b2-4ff3-89ff-e89902f7dc97",
   "metadata": {},
   "outputs": [],
   "source": [
    "# time to make minimizing and maximizing constraints\n",
    "bmin, bmax = nutrition(age, sex, activity_level)\n",
    "print(f\"Current minimizing constraints are: \\n \\n {bmin}\")\n",
    "print(f\"Current maximum constraints are: \\n \\n {bmax}\")"
   ]
  },
  {
   "cell_type": "markdown",
   "id": "d63d5ced-04b5-44d2-b64c-0df47f877e0b",
   "metadata": {},
   "source": [
    "#### A Note On Case Specific Constraint Editing\n",
    "Feel free to add in other maximizing constraints if you think they are relevant. Just make sure to justify them"
   ]
  },
  {
   "cell_type": "markdown",
   "id": "66303f8d-ccd3-404f-aab0-33952ad9c87b",
   "metadata": {},
   "source": [
    "### Part 2: Determining recipe and nutrition set"
   ]
  },
  {
   "cell_type": "markdown",
   "id": "9ca60d79-94cb-4be8-b800-18daf7d7556a",
   "metadata": {},
   "source": [
    "**Nutrition set is what constrains the options, since we are using a left join (or merge) on nutrients and recipes. The Nutrition dataset provides nutritional values and the recipe set provides weights**"
   ]
  },
  {
   "cell_type": "code",
   "execution_count": null,
   "id": "f5b4e70a-19b4-4b57-9e7b-37cdcca96f7f",
   "metadata": {},
   "outputs": [],
   "source": [
    "data_url = \"https://docs.google.com/spreadsheets/d/1xqixhrAoDq9rWJf_FC3Y2eXdd010DTLPCS7JJMCfwP8/edit?usp=sharing\"\n",
    "recipes = read_sheets(data_url, sheet=\"recipes\")\n",
    "nutrients = read_sheets(data_url, sheet=\"nutrients\")"
   ]
  },
  {
   "cell_type": "code",
   "execution_count": null,
   "id": "9c78b66a-9046-413e-9938-fc1c8c7a1dbf",
   "metadata": {},
   "outputs": [],
   "source": [
    "nutrients.head()"
   ]
  },
  {
   "cell_type": "markdown",
   "id": "ec2d790d-1922-4520-91c4-4cf9d2191a23",
   "metadata": {},
   "source": [
    "**Now, drop any foods within ingredients that you want in order to constrain to the specific area of interest (ex. particular population)**"
   ]
  },
  {
   "cell_type": "markdown",
   "id": "f49586e1-1e6e-4351-845c-29247824188f",
   "metadata": {},
   "source": [
    "Below is a search function. Feel free to use it to either view particular foods within the dataset or set cut = True if you want to simply cut out all food options in the final result that have the search term in it."
   ]
  },
  {
   "cell_type": "code",
   "execution_count": null,
   "id": "251a660e-3148-436b-b024-d41fe462d364",
   "metadata": {},
   "outputs": [],
   "source": [
    "def nutrient_search(search_term, nutrients, cut = False):\n",
    "    \"\"\"\n",
    "    Filters the nutrients DataFrame based on the presence or absence of a search term in the 'Ingredient description' column.\n",
    "\n",
    "    When 'cut' is True, the function returns only the rows where the 'Ingredient description' contains the given search term.\n",
    "    When 'cut' is False, it returns only the rows where the 'Ingredient description' does NOT contain the search term.\n",
    "\n",
    "    Parameters:\n",
    "        search_term (str): The term to search for in the 'Ingredient description' column.\n",
    "        nutrients (pd.DataFrame): The DataFrame containing nutrient data with an 'Ingredient description' column.\n",
    "        cut (bool, optional): Determines the filtering mode. If True, select rows containing the search term.\n",
    "                              If False (default), select rows that do not contain the search term.\n",
    "\n",
    "    Returns:\n",
    "        pd.DataFrame: The filtered DataFrame based on the specified condition.\n",
    "    \"\"\"\n",
    "    if cut:\n",
    "        return nutrients[~nutrients['Ingredient description'].str.contains(search_term)]\n",
    "    else:\n",
    "        return nutrients[nutrients['Ingredient description'].str.contains(search_term)]"
   ]
  },
  {
   "cell_type": "code",
   "execution_count": null,
   "id": "40034120-1ecb-45bc-af17-271f97f5bb06",
   "metadata": {},
   "outputs": [],
   "source": [
    "#example use\n",
    "nutrient_search('Butter', nutrients).head()"
   ]
  },
  {
   "cell_type": "code",
   "execution_count": null,
   "id": "c8af8ed0-5402-407c-bf8a-b34f1e711890",
   "metadata": {},
   "outputs": [],
   "source": [
    "## Running the optimization"
   ]
  },
  {
   "cell_type": "code",
   "execution_count": null,
   "id": "665da05c-d612-4171-a4d5-0532ea74ac31",
   "metadata": {},
   "outputs": [],
   "source": [
    "solvercomplete(sex, age,recipes, nutrients, bmin, bmax)"
   ]
  },
  {
   "cell_type": "code",
   "execution_count": 68,
   "id": "786738fb-77f5-4f29-9ae8-02e44b028370",
   "metadata": {},
   "outputs": [
    {
     "data": {
      "text/plain": [
       "\u001b[0;31mSignature:\u001b[0m\n",
       "\u001b[0msolvercomplete\u001b[0m\u001b[0;34m(\u001b[0m\u001b[0;34m\u001b[0m\n",
       "\u001b[0;34m\u001b[0m    \u001b[0msex\u001b[0m\u001b[0;34m,\u001b[0m\u001b[0;34m\u001b[0m\n",
       "\u001b[0;34m\u001b[0m    \u001b[0mage\u001b[0m\u001b[0;34m,\u001b[0m\u001b[0;34m\u001b[0m\n",
       "\u001b[0;34m\u001b[0m    \u001b[0mrecipes\u001b[0m\u001b[0;34m,\u001b[0m\u001b[0;34m\u001b[0m\n",
       "\u001b[0;34m\u001b[0m    \u001b[0mbmin\u001b[0m\u001b[0;34m,\u001b[0m\u001b[0;34m\u001b[0m\n",
       "\u001b[0;34m\u001b[0m    \u001b[0mbmax\u001b[0m\u001b[0;34m,\u001b[0m\u001b[0;34m\u001b[0m\n",
       "\u001b[0;34m\u001b[0m    \u001b[0mdata_url\u001b[0m\u001b[0;34m=\u001b[0m\u001b[0;34m'https://docs.google.com/spreadsheets/d/1xqixhrAoDq9rWJf_FC3Y2eXdd010DTLPCS7JJMCfwP8/edit?usp=sharing'\u001b[0m\u001b[0;34m,\u001b[0m\u001b[0;34m\u001b[0m\n",
       "\u001b[0;34m\u001b[0m\u001b[0;34m)\u001b[0m\u001b[0;34m\u001b[0m\u001b[0;34m\u001b[0m\u001b[0m\n",
       "\u001b[0;31mDocstring:\u001b[0m\n",
       "Constructs and solves a diet optimization problem based on recipes, nutritional data, and prices.\n",
       "\n",
       "Before running this function, ensure that you have assigned the `recipes` dataframe \n",
       "using:\n",
       "    recipes = read_sheets(data_url, sheet=\"recipes\")\n",
       "or a constrained recipes sheet (e.g., for prisons) so that `recipes` contains the desired data.\n",
       "\n",
       "This function performs the following steps:\n",
       "  1. Preprocesses the `recipes` dataframe by:\n",
       "     - Formatting food codes (columns \"parent_foodcode\" and \"ingred_code\") using the `format_id` function.\n",
       "     - Renaming \"parent_desc\" to \"recipe\".\n",
       "     - Normalizing ingredient weights within each recipe to percentage terms.\n",
       "  2. Reads and preprocesses the `nutrients` data from the provided data URL, \n",
       "     formatting the \"ingred_code\" column.\n",
       "  3. Merges the recipes with their corresponding nutrient profiles and scales the nutrient values \n",
       "     according to the normalized ingredient weights.\n",
       "  4. Aggregates the nutrient values for each recipe.\n",
       "  5. Reads the `prices` data from the data URL (using the \"prices\" sheet), cleans the data, \n",
       "     and selects the most recent price information (\"2017/2018\").\n",
       "  6. Identifies common recipes between the nutrient data and price data.\n",
       "  7. Constructs constraint matrices by aligning the aggregated nutrient data with the provided \n",
       "     minimum (bmin) and maximum (bmax) nutrient bounds.\n",
       "  8. Solves a linear programming problem (using the `lp` function with method 'highs') to \n",
       "     determine the cost-optimal diet that satisfies the nutritional constraints.\n",
       "  9. Prints:\n",
       "     - The daily cost of the diet.\n",
       "     - The composition of the diet (amounts of each recipe in 100s of grams or milliliters).\n",
       "     - Nutritional outcomes of interest and identifies which nutrient constraints are binding.\n",
       "\n",
       "Parameters:\n",
       "  sex (str): The sex of the individual (e.g., 'M' or 'F'), which determines the column of nutrient data.\n",
       "  age (int): The age of the individual; used to select the appropriate nutritional requirements.\n",
       "  recipes (pd.DataFrame): DataFrame containing recipe information. It should include columns:\n",
       "      - \"parent_foodcode\": identifier for each recipe.\n",
       "      - \"ingred_code\": identifier for each ingredient.\n",
       "      - \"ingred_wt\": weight of the ingredient in the recipe.\n",
       "      - \"parent_desc\": description of the recipe (will be renamed to \"recipe\").\n",
       "  bmin (pd.Series or pd.DataFrame): Lower bound(s) for the nutritional constraints.\n",
       "  bmax (pd.Series or pd.DataFrame): Upper bound(s) for the nutritional constraints.\n",
       "  data_url (str, optional): URL to the Google Sheets document containing the \"recipes\", \"nutrients\",\n",
       "      and \"prices\" sheets. Defaults to the provided URL.\n",
       "\n",
       "Returns:\n",
       "  None\n",
       "\n",
       "Side Effects:\n",
       "  - Prints the daily cost of the diet.\n",
       "  - Prints the diet composition (amount of each recipe to include).\n",
       "  - Prints a table of nutritional outcomes and indicates which constraints are binding.\n",
       "\n",
       "Note:\n",
       "  - This function assumes that the helper functions `read_sheets`, `format_id`, and `lp`\n",
       "    (for linear programming) are defined and available in the current environment.\n",
       "  - Nutrient outcomes smaller in absolute value than 1e-6 are treated as zeros.\n",
       "\u001b[0;31mFile:\u001b[0m      ~/EEP-153-Project-2/p2utilityfunctions.py\n",
       "\u001b[0;31mType:\u001b[0m      function"
      ]
     },
     "metadata": {},
     "output_type": "display_data"
    }
   ],
   "source": [
    "solvercomplete?"
   ]
  },
  {
   "cell_type": "code",
   "execution_count": null,
   "id": "f7a8373a-d678-4aed-b85c-4f626fd2bf15",
   "metadata": {},
   "outputs": [],
   "source": []
  }
 ],
 "metadata": {
  "kernelspec": {
   "display_name": "Python 3 (ipykernel)",
   "language": "python",
   "name": "python3"
  },
  "language_info": {
   "codemirror_mode": {
    "name": "ipython",
    "version": 3
   },
   "file_extension": ".py",
   "mimetype": "text/x-python",
   "name": "python",
   "nbconvert_exporter": "python",
   "pygments_lexer": "ipython3",
   "version": "3.11.11"
  }
 },
 "nbformat": 4,
 "nbformat_minor": 5
}
