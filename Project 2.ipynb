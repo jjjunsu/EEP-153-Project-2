{
 "cells": [
  {
   "cell_type": "markdown",
   "id": "75a8ffb3-84a4-48df-bf33-0f9ce0efdfa3",
   "metadata": {},
   "source": [
    "## The Minimum Cost Prison Diet\n",
    "**Written by: Team Margaret Reid**"
   ]
  },
  {
   "cell_type": "markdown",
   "id": "729c1727-b84c-4232-9b5a-8d3335a0e395",
   "metadata": {},
   "source": [
    "## Introduction and Population (Deliverable 1a)"
   ]
  },
  {
   "cell_type": "markdown",
   "id": "b0aa2343-a879-4891-a041-7cefb73dc99e",
   "metadata": {},
   "source": [
    "Prison diets are known to be high in carbohydrates and sodium levels with little or no access to fresh produce. Often, this results in adverse health outcomes and can lead to increased spendings for medical needs. The goal of this project is to identify the minimum cost diet that satisfies nutritional needs for U.S. inmate population using available data on county, state, and federal prisons. We will come up with a minimum cost diet for the average prisoner and investigate whether or not state prisons are able to meet the suggested nutritional requirements based on their weekly menus."
   ]
  },
  {
   "cell_type": "markdown",
   "id": "a10db1f7-e296-419b-9adf-d4b479f5805e",
   "metadata": {},
   "source": [
    "### Setup"
   ]
  },
  {
   "cell_type": "code",
   "execution_count": 1,
   "id": "8a71bdf8-7340-4170-8501-aaa9dc178371",
   "metadata": {
    "collapsed": true,
    "jupyter": {
     "outputs_hidden": true
    }
   },
   "outputs": [
    {
     "name": "stdout",
     "output_type": "stream",
     "text": [
      "Requirement already satisfied: Pint>=0.8.1 in /srv/conda/lib/python3.11/site-packages (from -r requirements.txt (line 2)) (0.24.4)\n",
      "Requirement already satisfied: numpy>=1.15.0 in /srv/conda/lib/python3.11/site-packages (from -r requirements.txt (line 6)) (2.2.3)\n",
      "Requirement already satisfied: pandas>=0.23.3 in /srv/conda/lib/python3.11/site-packages (from -r requirements.txt (line 11)) (2.2.3)\n",
      "Requirement already satisfied: requests>=2.20.0 in /srv/conda/lib/python3.11/site-packages (from -r requirements.txt (line 15)) (2.32.3)\n",
      "Requirement already satisfied: scipy>=1.1.0 in /srv/conda/lib/python3.11/site-packages (from -r requirements.txt (line 18)) (1.15.2)\n",
      "Requirement already satisfied: gspread in /srv/conda/lib/python3.11/site-packages (from -r requirements.txt (line 20)) (5.12.4)\n",
      "Collecting gspread (from -r requirements.txt (line 20))\n",
      "  Using cached gspread-6.2.0-py3-none-any.whl.metadata (11 kB)\n",
      "Requirement already satisfied: gspread_pandas in /srv/conda/lib/python3.11/site-packages (from -r requirements.txt (line 22)) (3.3.0)\n",
      "Requirement already satisfied: bottleneck>=1.3.6 in /srv/conda/lib/python3.11/site-packages (from -r requirements.txt (line 24)) (1.4.2)\n",
      "Requirement already satisfied: eep153_tools in /srv/conda/lib/python3.11/site-packages (from -r requirements.txt (line 26)) (0.12.4)\n",
      "Requirement already satisfied: fooddatacentral in /srv/conda/lib/python3.11/site-packages (from -r requirements.txt (line 28)) (1.0.10)\n",
      "Requirement already satisfied: python-gnupg in /srv/conda/lib/python3.11/site-packages (from -r requirements.txt (line 30)) (0.5.4)\n",
      "Requirement already satisfied: platformdirs>=2.1.0 in /srv/conda/lib/python3.11/site-packages (from Pint>=0.8.1->-r requirements.txt (line 2)) (4.3.6)\n",
      "Requirement already satisfied: typing-extensions>=4.0.0 in /srv/conda/lib/python3.11/site-packages (from Pint>=0.8.1->-r requirements.txt (line 2)) (4.12.2)\n",
      "Requirement already satisfied: flexcache>=0.3 in /srv/conda/lib/python3.11/site-packages (from Pint>=0.8.1->-r requirements.txt (line 2)) (0.3)\n",
      "Requirement already satisfied: flexparser>=0.4 in /srv/conda/lib/python3.11/site-packages (from Pint>=0.8.1->-r requirements.txt (line 2)) (0.4)\n",
      "Requirement already satisfied: python-dateutil>=2.8.2 in /srv/conda/lib/python3.11/site-packages (from pandas>=0.23.3->-r requirements.txt (line 11)) (2.9.0.post0)\n",
      "Requirement already satisfied: pytz>=2020.1 in /srv/conda/lib/python3.11/site-packages (from pandas>=0.23.3->-r requirements.txt (line 11)) (2024.1)\n",
      "Requirement already satisfied: tzdata>=2022.7 in /srv/conda/lib/python3.11/site-packages (from pandas>=0.23.3->-r requirements.txt (line 11)) (2025.1)\n",
      "Requirement already satisfied: charset_normalizer<4,>=2 in /srv/conda/lib/python3.11/site-packages (from requests>=2.20.0->-r requirements.txt (line 15)) (3.4.0)\n",
      "Requirement already satisfied: idna<4,>=2.5 in /srv/conda/lib/python3.11/site-packages (from requests>=2.20.0->-r requirements.txt (line 15)) (3.10)\n",
      "Requirement already satisfied: urllib3<3,>=1.21.1 in /srv/conda/lib/python3.11/site-packages (from requests>=2.20.0->-r requirements.txt (line 15)) (2.3.0)\n",
      "Requirement already satisfied: certifi>=2017.4.17 in /srv/conda/lib/python3.11/site-packages (from requests>=2.20.0->-r requirements.txt (line 15)) (2025.1.31)\n",
      "Requirement already satisfied: google-auth>=1.12.0 in /srv/conda/lib/python3.11/site-packages (from gspread->-r requirements.txt (line 20)) (2.38.0)\n",
      "Requirement already satisfied: google-auth-oauthlib>=0.4.1 in /srv/conda/lib/python3.11/site-packages (from gspread->-r requirements.txt (line 20)) (1.2.1)\n",
      "Requirement already satisfied: decorator in /srv/conda/lib/python3.11/site-packages (from gspread_pandas->-r requirements.txt (line 22)) (5.1.1)\n",
      "Requirement already satisfied: cachetools<6.0,>=2.0.0 in /srv/conda/lib/python3.11/site-packages (from google-auth>=1.12.0->gspread->-r requirements.txt (line 20)) (5.5.2)\n",
      "Requirement already satisfied: pyasn1-modules>=0.2.1 in /srv/conda/lib/python3.11/site-packages (from google-auth>=1.12.0->gspread->-r requirements.txt (line 20)) (0.4.1)\n",
      "Requirement already satisfied: rsa<5,>=3.1.4 in /srv/conda/lib/python3.11/site-packages (from google-auth>=1.12.0->gspread->-r requirements.txt (line 20)) (4.9)\n",
      "Requirement already satisfied: requests-oauthlib>=0.7.0 in /srv/conda/lib/python3.11/site-packages (from google-auth-oauthlib>=0.4.1->gspread->-r requirements.txt (line 20)) (2.0.0)\n",
      "Requirement already satisfied: six>=1.5 in /srv/conda/lib/python3.11/site-packages (from python-dateutil>=2.8.2->pandas>=0.23.3->-r requirements.txt (line 11)) (1.17.0)\n",
      "Requirement already satisfied: pyasn1<0.7.0,>=0.4.6 in /srv/conda/lib/python3.11/site-packages (from pyasn1-modules>=0.2.1->google-auth>=1.12.0->gspread->-r requirements.txt (line 20)) (0.6.1)\n",
      "Requirement already satisfied: oauthlib>=3.0.0 in /srv/conda/lib/python3.11/site-packages (from requests-oauthlib>=0.7.0->google-auth-oauthlib>=0.4.1->gspread->-r requirements.txt (line 20)) (3.2.2)\n",
      "Note: you may need to restart the kernel to use updated packages.\n"
     ]
    }
   ],
   "source": [
    "# Uncomment to run the line below when you are opening this notebook for the first time\n",
    "%pip install -r requirements.txt --upgrade"
   ]
  },
  {
   "cell_type": "code",
   "execution_count": 2,
   "id": "d21fb9da-19fc-47ca-9c99-e0c15107feb8",
   "metadata": {},
   "outputs": [],
   "source": [
    "from Functions import solvercomplete, nutrition, nutrient_search\n",
    "#for documentation on any function run \"function?\", ex nutrition?\n",
    "import numpy as np\n",
    "import pandas as pd\n",
    "from eep153_tools.sheets import read_sheets"
   ]
  },
  {
   "cell_type": "markdown",
   "id": "fab4c36c-2113-43d5-943e-460341a46cda",
   "metadata": {},
   "source": [
    "### Part 1: Setting constraints and general variables"
   ]
  },
  {
   "cell_type": "markdown",
   "id": "d5c43f91-2628-4453-9b8d-c2eb2a92c0bc",
   "metadata": {},
   "source": [
    "#### Deliverable 1b: Nutrition function to set constraints"
   ]
  },
  {
   "cell_type": "code",
   "execution_count": 12,
   "id": "7f470097-4092-4c41-aa5e-57e672af8444",
   "metadata": {},
   "outputs": [],
   "source": [
    "age = 42 # choose an appropriate age\n",
    "sex = \"M\" # set M for Male and F for Female\n",
    "activity_level = \"Active\" # options: Moderately Active, Sedentary, or Active"
   ]
  },
  {
   "cell_type": "code",
   "execution_count": 13,
   "id": "00d92e84-c9b2-4ff3-89ff-e89902f7dc97",
   "metadata": {},
   "outputs": [
    {
     "name": "stdout",
     "output_type": "stream",
     "text": [
      "Current minimizing constraints are: \n",
      " \n",
      " Nutrient\n",
      "Energy            2800.0\n",
      "Protein             56.0\n",
      "Carbohydrate       130.0\n",
      "Dietary Fiber       30.8\n",
      "Linoleic Acid       17.0\n",
      "Linolenic Acid       1.6\n",
      "Calcium           1000.0\n",
      "Iron                 8.0\n",
      "Magnesium          420.0\n",
      "Phosphorus         700.0\n",
      "Potassium         4700.0\n",
      "Zinc                11.0\n",
      "Copper               0.9\n",
      "Selenium            55.0\n",
      "Vitamin A          900.0\n",
      "Vitamin E           15.0\n",
      "Vitamin D           15.0\n",
      "Vitamin C           90.0\n",
      "Thiamin              1.2\n",
      "Riboflavin           1.3\n",
      "Niacin              16.0\n",
      "Vitamin B6           1.3\n",
      "Vitamin B12          2.4\n",
      "Choline            550.0\n",
      "Vitamin K          120.0\n",
      "Folate             400.0\n",
      "Name: Male_31_50, dtype: float64\n",
      "Current maximum constraints are: \n",
      " \n",
      " Nutrient\n",
      "Sodium    2300.0\n",
      "Name: Male_31_50, dtype: float64\n"
     ]
    },
    {
     "name": "stderr",
     "output_type": "stream",
     "text": [
      "/home/jovyan/EEP-153-Project-2/Functions.py:40: FutureWarning: Series.__setitem__ treating keys as positions is deprecated. In a future version, integer keys will always be treated as labels (consistent with DataFrame behavior). To set a value by position, use `ser.iloc[pos] = value`\n",
      "  bmin[0] = active_energy\n"
     ]
    }
   ],
   "source": [
    "# time to make minimizing and maximizing constraints\n",
    "bmin, bmax = nutrition(age, sex, activity_level)\n",
    "print(f\"Current minimizing constraints are: \\n \\n {bmin}\")\n",
    "print(f\"Current maximum constraints are: \\n \\n {bmax}\")"
   ]
  },
  {
   "cell_type": "markdown",
   "id": "66303f8d-ccd3-404f-aab0-33952ad9c87b",
   "metadata": {},
   "source": [
    "### Part 2: Determining recipe and nutrition set"
   ]
  },
  {
   "cell_type": "markdown",
   "id": "9ca60d79-94cb-4be8-b800-18daf7d7556a",
   "metadata": {},
   "source": [
    "**Nutrition set is what constrains the options, since we are using a left join (or merge) on nutrients and recipes. The Nutrition dataset provides nutritional values and the recipe set provides weights**"
   ]
  },
  {
   "cell_type": "code",
   "execution_count": 14,
   "id": "f5b4e70a-19b4-4b57-9e7b-37cdcca96f7f",
   "metadata": {},
   "outputs": [],
   "source": [
    "data_url = \"https://docs.google.com/spreadsheets/d/1xqixhrAoDq9rWJf_FC3Y2eXdd010DTLPCS7JJMCfwP8/edit?usp=sharing\"\n",
    "recipes = read_sheets(data_url, sheet=\"recipes\")\n",
    "nutrients = read_sheets(data_url, sheet=\"nutrients\")"
   ]
  },
  {
   "cell_type": "markdown",
   "id": "ec2d790d-1922-4520-91c4-4cf9d2191a23",
   "metadata": {},
   "source": [
    "Now, we used a nutrition search function we developed to filter out some ingredients that are not feasible. Note that for the constrained table we set Cut = True to produce a dataframe free of matching terms."
   ]
  },
  {
   "cell_type": "code",
   "execution_count": 15,
   "id": "40034120-1ecb-45bc-af17-271f97f5bb06",
   "metadata": {},
   "outputs": [
    {
     "data": {
      "text/html": [
       "<div>\n",
       "<style scoped>\n",
       "    .dataframe tbody tr th:only-of-type {\n",
       "        vertical-align: middle;\n",
       "    }\n",
       "\n",
       "    .dataframe tbody tr th {\n",
       "        vertical-align: top;\n",
       "    }\n",
       "\n",
       "    .dataframe thead th {\n",
       "        text-align: right;\n",
       "    }\n",
       "</style>\n",
       "<table border=\"1\" class=\"dataframe\">\n",
       "  <thead>\n",
       "    <tr style=\"text-align: right;\">\n",
       "      <th></th>\n",
       "      <th>ingred_code</th>\n",
       "      <th>Ingredient description</th>\n",
       "      <th>Capric acid</th>\n",
       "      <th>Lauric acid</th>\n",
       "      <th>Myristic acid</th>\n",
       "      <th>Palmitic acid</th>\n",
       "      <th>Palmitoleic acid</th>\n",
       "      <th>Stearic acid</th>\n",
       "      <th>Oleic acid</th>\n",
       "      <th>Linoleic Acid</th>\n",
       "      <th>...</th>\n",
       "      <th>Vitamin B12</th>\n",
       "      <th>Vitamin B-12, added</th>\n",
       "      <th>Vitamin B6</th>\n",
       "      <th>Vitamin C</th>\n",
       "      <th>Vitamin D</th>\n",
       "      <th>Vitamin E</th>\n",
       "      <th>Vitamin E, added</th>\n",
       "      <th>Vitamin K</th>\n",
       "      <th>Water</th>\n",
       "      <th>Zinc</th>\n",
       "    </tr>\n",
       "  </thead>\n",
       "  <tbody>\n",
       "    <tr>\n",
       "      <th>0</th>\n",
       "      <td>1001</td>\n",
       "      <td>Butter, salted</td>\n",
       "      <td>2.529</td>\n",
       "      <td>2.587</td>\n",
       "      <td>7.436</td>\n",
       "      <td>21.697</td>\n",
       "      <td>0.961</td>\n",
       "      <td>9.999</td>\n",
       "      <td>19.961</td>\n",
       "      <td>2.728</td>\n",
       "      <td>...</td>\n",
       "      <td>0.17</td>\n",
       "      <td>0.0</td>\n",
       "      <td>0.003</td>\n",
       "      <td>0.0</td>\n",
       "      <td>0.0</td>\n",
       "      <td>2.32</td>\n",
       "      <td>0.0</td>\n",
       "      <td>7.0</td>\n",
       "      <td>15.87</td>\n",
       "      <td>0.09</td>\n",
       "    </tr>\n",
       "    <tr>\n",
       "      <th>1</th>\n",
       "      <td>1002</td>\n",
       "      <td>Butter, whipped, with salt</td>\n",
       "      <td>2.039</td>\n",
       "      <td>2.354</td>\n",
       "      <td>7.515</td>\n",
       "      <td>20.531</td>\n",
       "      <td>1.417</td>\n",
       "      <td>7.649</td>\n",
       "      <td>17.370</td>\n",
       "      <td>2.713</td>\n",
       "      <td>...</td>\n",
       "      <td>0.07</td>\n",
       "      <td>0.0</td>\n",
       "      <td>0.008</td>\n",
       "      <td>0.0</td>\n",
       "      <td>0.0</td>\n",
       "      <td>1.37</td>\n",
       "      <td>0.0</td>\n",
       "      <td>4.6</td>\n",
       "      <td>16.72</td>\n",
       "      <td>0.05</td>\n",
       "    </tr>\n",
       "    <tr>\n",
       "      <th>2</th>\n",
       "      <td>1003</td>\n",
       "      <td>Butter oil, anhydrous</td>\n",
       "      <td>2.495</td>\n",
       "      <td>2.793</td>\n",
       "      <td>10.005</td>\n",
       "      <td>26.166</td>\n",
       "      <td>2.228</td>\n",
       "      <td>12.056</td>\n",
       "      <td>25.026</td>\n",
       "      <td>2.247</td>\n",
       "      <td>...</td>\n",
       "      <td>0.01</td>\n",
       "      <td>0.0</td>\n",
       "      <td>0.001</td>\n",
       "      <td>0.0</td>\n",
       "      <td>0.0</td>\n",
       "      <td>2.80</td>\n",
       "      <td>0.0</td>\n",
       "      <td>8.6</td>\n",
       "      <td>0.24</td>\n",
       "      <td>0.01</td>\n",
       "    </tr>\n",
       "    <tr>\n",
       "      <th>3</th>\n",
       "      <td>1004</td>\n",
       "      <td>Cheese, blue</td>\n",
       "      <td>0.601</td>\n",
       "      <td>0.491</td>\n",
       "      <td>3.301</td>\n",
       "      <td>9.153</td>\n",
       "      <td>0.816</td>\n",
       "      <td>3.235</td>\n",
       "      <td>6.622</td>\n",
       "      <td>0.536</td>\n",
       "      <td>...</td>\n",
       "      <td>1.22</td>\n",
       "      <td>0.0</td>\n",
       "      <td>0.166</td>\n",
       "      <td>0.0</td>\n",
       "      <td>0.5</td>\n",
       "      <td>0.25</td>\n",
       "      <td>0.0</td>\n",
       "      <td>2.4</td>\n",
       "      <td>42.41</td>\n",
       "      <td>2.66</td>\n",
       "    </tr>\n",
       "    <tr>\n",
       "      <th>4</th>\n",
       "      <td>1005</td>\n",
       "      <td>Cheese, brick</td>\n",
       "      <td>0.585</td>\n",
       "      <td>0.482</td>\n",
       "      <td>3.227</td>\n",
       "      <td>8.655</td>\n",
       "      <td>0.817</td>\n",
       "      <td>3.455</td>\n",
       "      <td>7.401</td>\n",
       "      <td>0.491</td>\n",
       "      <td>...</td>\n",
       "      <td>1.26</td>\n",
       "      <td>0.0</td>\n",
       "      <td>0.065</td>\n",
       "      <td>0.0</td>\n",
       "      <td>0.5</td>\n",
       "      <td>0.26</td>\n",
       "      <td>0.0</td>\n",
       "      <td>2.5</td>\n",
       "      <td>41.11</td>\n",
       "      <td>2.60</td>\n",
       "    </tr>\n",
       "  </tbody>\n",
       "</table>\n",
       "<p>5 rows × 67 columns</p>\n",
       "</div>"
      ],
      "text/plain": [
       "   ingred_code      Ingredient description  Capric acid  Lauric acid  \\\n",
       "0         1001              Butter, salted        2.529        2.587   \n",
       "1         1002  Butter, whipped, with salt        2.039        2.354   \n",
       "2         1003       Butter oil, anhydrous        2.495        2.793   \n",
       "3         1004                Cheese, blue        0.601        0.491   \n",
       "4         1005               Cheese, brick        0.585        0.482   \n",
       "\n",
       "   Myristic acid  Palmitic acid  Palmitoleic acid  Stearic acid  Oleic acid  \\\n",
       "0          7.436         21.697             0.961         9.999      19.961   \n",
       "1          7.515         20.531             1.417         7.649      17.370   \n",
       "2         10.005         26.166             2.228        12.056      25.026   \n",
       "3          3.301          9.153             0.816         3.235       6.622   \n",
       "4          3.227          8.655             0.817         3.455       7.401   \n",
       "\n",
       "   Linoleic Acid  ...  Vitamin B12  Vitamin B-12, added  Vitamin B6  \\\n",
       "0          2.728  ...         0.17                  0.0       0.003   \n",
       "1          2.713  ...         0.07                  0.0       0.008   \n",
       "2          2.247  ...         0.01                  0.0       0.001   \n",
       "3          0.536  ...         1.22                  0.0       0.166   \n",
       "4          0.491  ...         1.26                  0.0       0.065   \n",
       "\n",
       "   Vitamin C  Vitamin D  Vitamin E  Vitamin E, added  Vitamin K  Water  Zinc  \n",
       "0        0.0        0.0       2.32               0.0        7.0  15.87  0.09  \n",
       "1        0.0        0.0       1.37               0.0        4.6  16.72  0.05  \n",
       "2        0.0        0.0       2.80               0.0        8.6   0.24  0.01  \n",
       "3        0.0        0.5       0.25               0.0        2.4  42.41  2.66  \n",
       "4        0.0        0.5       0.26               0.0        2.5  41.11  2.60  \n",
       "\n",
       "[5 rows x 67 columns]"
      ]
     },
     "execution_count": 15,
     "metadata": {},
     "output_type": "execute_result"
    }
   ],
   "source": [
    "#example use\n",
    "#nutrient_search('Cream', nutrients).head()\n",
    "#other example uses\n",
    "# nutrient_search(['dog', 'cinnamon'], nutrients) \n",
    "# -> this would return all entries containing dog or cinnamon\n",
    "# nutrient_search(['dog', 'cinnamon'], nutrients, cut = True) \n",
    "# -> this would return all entries not containing dog or cinammon (acting as a filter)\n",
    "# nutrient_search('cheese', nutrients)\n",
    "# -> this would return all entries containing cheese in ingredient descriptions\n",
    "updated_nutrients = nutrient_search(['Carp', 'Plantain', 'Wheat bran', 'Brazil', 'Soy flour, defatted'], nutrients, cut=True)\n",
    "updated_nutrients.head()"
   ]
  },
  {
   "cell_type": "code",
   "execution_count": null,
   "id": "0b3e37ea-0041-4787-8095-eab90148fd48",
   "metadata": {},
   "outputs": [],
   "source": []
  },
  {
   "cell_type": "markdown",
   "id": "f696a92e-9b32-418d-8bf8-6b49eab928b2",
   "metadata": {},
   "source": [
    "## Running the optimization: Our Minimum Cost Diet\n",
    "Here is a call to the optimization function, passing in the updated constraint nutrients dataframe: *solvercomplete(sex, age,recipes, **updated nutrients**, bmin, bmax)*"
   ]
  },
  {
   "cell_type": "code",
   "execution_count": 16,
   "id": "31e44bac-6e5a-4b80-9b37-2ef109ca38cc",
   "metadata": {},
   "outputs": [
    {
     "name": "stdout",
     "output_type": "stream",
     "text": [
      "Cost of diet for M's of age 42 is $2.76 per day.\n",
      "\n",
      "The diet will consist of (in 100s of grams or milliliters):\n",
      "Milk, low fat (1%)                        10.17\n",
      "Egg, yolk only, raw                        0.15\n",
      "Split peas, from dried, fat added          7.64\n",
      "Peanuts, unroasted                         0.14\n",
      "Cereal, rice flakes                        0.18\n",
      "Cereal, toasted oat                        0.09\n",
      "Cilantro, raw                              0.14\n",
      "Corn oil                                   0.81\n",
      "Fruit juice drink, with high vitamin C     2.80\n",
      "dtype: float64\n",
      "\n",
      "With the following nutritional outcomes of interest:\n",
      "                    Outcome  Recommendation\n",
      "Nutrient                                   \n",
      "Energy               2800.0          2800.0\n",
      "Protein          102.291294            56.0\n",
      "Carbohydrate     257.883387           130.0\n",
      "Dietary Fiber     61.890972            30.8\n",
      "Linoleic Acid     64.344459            17.0\n",
      "Linolenic Acid       3.4323             1.6\n",
      "Calcium         1455.766178          1000.0\n",
      "Iron              20.299666             8.0\n",
      "Magnesium        426.909076           420.0\n",
      "Phosphorus      1872.817724           700.0\n",
      "Potassium            4700.0          4700.0\n",
      "Zinc              13.827502            11.0\n",
      "Copper             1.694431             0.9\n",
      "Selenium               55.0            55.0\n",
      "Vitamin A       1005.760134           900.0\n",
      "Vitamin E         20.774314            15.0\n",
      "Vitamin D              15.0            15.0\n",
      "Vitamin C              90.0            90.0\n",
      "Thiamin            2.172118             1.2\n",
      "Riboflavin         2.805634             1.3\n",
      "Niacin                 16.0            16.0\n",
      "Vitamin B6         1.435318             1.3\n",
      "Vitamin B12        6.526491             2.4\n",
      "Choline               550.0           550.0\n",
      "Vitamin K             120.0           120.0\n",
      "Folate           749.248149           400.0\n",
      "Sodium              -2300.0          2300.0\n",
      "\n",
      "Constraining nutrients are:\n",
      "['Energy', 'Potassium', 'Selenium', 'Vitamin D', 'Vitamin C', 'Niacin', 'Choline', 'Vitamin K']\n"
     ]
    },
    {
     "data": {
      "text/plain": [
       "'2.76'"
      ]
     },
     "execution_count": 16,
     "metadata": {},
     "output_type": "execute_result"
    }
   ],
   "source": [
    "solvercomplete(sex, age, recipes, updated_nutrients, bmin, bmax)"
   ]
  },
  {
   "cell_type": "markdown",
   "id": "335bf2ed-6e37-4444-923a-1f9928bfe4c2",
   "metadata": {},
   "source": [
    "## Analysis on State Prison Menus"
   ]
  },
  {
   "cell_type": "markdown",
   "id": "9c356bfe-86d3-4ee6-a1fb-4082a9f806d1",
   "metadata": {},
   "source": [
    "The lists of food items in this section are adapted from state prison weekly menus in California, Pennyslvania, and Florida. Using these food items to calculate a min-cost diet will tell us whether the menus are able to satisfy nutritional needs and if so, whether or not it is at an affordable price."
   ]
  },
  {
   "cell_type": "code",
   "execution_count": 17,
   "id": "7c16506e-6625-4f6c-80f2-ba7a4fdcd6b4",
   "metadata": {},
   "outputs": [],
   "source": [
    "cal_food_items = [\n",
    "    \"Apple Juice\", \"Orange Juice\", \"Oatmeal\", \"Creamed Beef\", \"Biscuit\", \"Diced Potatoes\", \n",
    "    \"Ketchup\", \"1% Milk\", \"Coffee\", \"Pinto Bean\", \"Gravy\", \"Milk\", \"Peanut Butter\", \"Jelly\", \n",
    "    \"Almond\", \"Oatmeal Cookie\", \"Apple\", \"Orange\", \"Banana\", \"Lettuce\", \"Chicken Vegetable Stew\", \n",
    "    \"Corn Bread\", \"Turkey Hot Dog\", \"Vegetable Stew\", \"Low Fat Yogurt\", \"Bran Cake\", \"Bologna\", \n",
    "    \"Mayonnaise\", \"Mustard\", \"Whole Wheat Bread\", \"Corn Chips\", \"Coleslaw\", \"Hot Link\", \n",
    "    \"New Orleans Red Bean\", \"Red Bean\", \"Rice\", \"Cake with Icing\", \"Chocolate Milk\", \"Cereal\", \"Egg\", \n",
    "    \"Onions\", \"Bell Peppers\", \"Hummus\", \"Pretzel\", \"Sunflower Seed\", \"Bean & Cheese Burrito\", \n",
    "    \"Breakfast Burritos\", \"Chicken Chorizo\", \"Taco Sauce\", \"Tortillas\", \"Shredded Cheese\", \n",
    "    \"Roasted Chicken Lunchmeat\", \"Peanut Butter Cracker\", \"Gold Fish\", \"Chicken Taco Salad\", \n",
    "    \"Corn Tortilla\", \"Cheese Pizza\", \"Italian White Beans\", \"Pancake\", \"Syrup\", \"Beef Ravioli\", \n",
    "    \"Tuscan Style Bean\", \"Sugar Free Beverage\", \"Carrots\", \"Broccoli\", \"Chicken\"\n",
    "]"
   ]
  },
  {
   "cell_type": "code",
   "execution_count": 18,
   "id": "17eae122-5d35-4f02-955b-46aa009a77ad",
   "metadata": {},
   "outputs": [
    {
     "name": "stdout",
     "output_type": "stream",
     "text": [
      "Cost of diet for M's of age 42 is $3.49 per day.\n",
      "\n",
      "The diet will consist of (in 100s of grams or milliliters):\n",
      "Milk, low fat (1%)                             7.56\n",
      "Egg, yolk only, raw                            0.31\n",
      "Peanut butter, reduced fat                     1.30\n",
      "Chinese pancake                                4.09\n",
      "Cereal, toasted oat                            0.60\n",
      "Banana, raw                                    5.25\n",
      "Mustard greens, fresh, cooked, no added fat    0.30\n",
      "Mayonnaise, regular                            0.22\n",
      "Fruit juice drink, added calcium (Sunny D)     0.43\n",
      "dtype: float64\n",
      "\n",
      "With the following nutritional outcomes of interest:\n",
      "                    Outcome  Recommendation\n",
      "Nutrient                                   \n",
      "Energy               2800.0          2800.0\n",
      "Protein           93.681575            56.0\n",
      "Carbohydrate     442.529278           130.0\n",
      "Dietary Fiber          30.8            30.8\n",
      "Linoleic Acid     23.499604            17.0\n",
      "Linolenic Acid          1.6             1.6\n",
      "Calcium         1413.140849          1000.0\n",
      "Iron              34.587715             8.0\n",
      "Magnesium        602.302377           420.0\n",
      "Phosphorus      2043.417127           700.0\n",
      "Potassium            4700.0          4700.0\n",
      "Zinc              18.931932            11.0\n",
      "Copper             2.093151             0.9\n",
      "Selenium         120.915106            55.0\n",
      "Vitamin A       1267.200597           900.0\n",
      "Vitamin E              15.0            15.0\n",
      "Vitamin D              15.0            15.0\n",
      "Vitamin C              90.0            90.0\n",
      "Thiamin            2.929064             1.2\n",
      "Riboflavin         3.080772             1.3\n",
      "Niacin            43.785617            16.0\n",
      "Vitamin B6         4.224887             1.3\n",
      "Vitamin B12        7.368716             2.4\n",
      "Choline               550.0           550.0\n",
      "Vitamin K             120.0           120.0\n",
      "Folate          1233.043987           400.0\n",
      "Sodium         -1575.807199          2300.0\n",
      "\n",
      "Constraining nutrients are:\n",
      "['Energy', 'Dietary Fiber', 'Linolenic Acid', 'Potassium', 'Vitamin E', 'Vitamin D', 'Vitamin C', 'Choline', 'Vitamin K']\n"
     ]
    },
    {
     "data": {
      "text/plain": [
       "'3.49'"
      ]
     },
     "execution_count": 18,
     "metadata": {},
     "output_type": "execute_result"
    }
   ],
   "source": [
    "cal_nutrients = nutrient_search(cal_food_items, nutrients, cut = False)\n",
    "solvercomplete(sex, age, recipes, cal_nutrients, bmin, bmax)"
   ]
  },
  {
   "cell_type": "code",
   "execution_count": 19,
   "id": "314676f3-2520-4897-9c68-5b2560712c0a",
   "metadata": {},
   "outputs": [],
   "source": [
    "pen_food_items = [\n",
    "    \"Grit\", \"Egg\", \"Toast\", \"Margarine\", \"Milk\", \"Coffee\", \"Sugar\", \n",
    "    \"Apple\", \"Orange\", \"Banana\", \"Meatloaf Patty\", \"Soy Loaf\", \"Gravy\", \"Whipped Potato\", \n",
    "    \"Wax Bean\", \"Bread\", \"Grilled Cheese Sandwich\", \"Peanut Butter\", \"Jelly\", \"Tomato Soup\", \n",
    "    \"Pasta\", \"Oatmeal\", \"Breakfast Pastry\", \"Hamburger\", \"Bean Burger\", \"Potato\", \"Corn\", \n",
    "    \"Ketchup\", \"Mustard\", \"Mayonnaise\", \"Coleslaw\", \"Rice\", \"Cornbread\", \"Frankfurters\", \n",
    "    \"Macaroni Salad\", \"Baked Bean\", \"Broccoli\", \"Jello\", \"Hard Cooked Eggs\", \n",
    "    \"Poultry Cacciatore\", \"Soy Cacciatore\", \"Pasta and Bean Casserole\", \"Lettuce\", \n",
    "    \"Salad Dressing\", \"Cream of Wheat\", \"Breaded Chicken Patty\", \"Pinto Beans\", \n",
    "    \"Spinach\", \"Noodle\", \"Carrot\", \"Meat Sauce Pasta Casserole\", \n",
    "    \"Soy Pasta Sauce Pasta Casserole\", \"Breaded Fish\", \"Creamed Soy Crumble\", \n",
    "    \"Creamed Beef\", \"Bean Paste\", \"Cocktail Sauce\", \"Tartar\", \"Vegetable Soup\", \n",
    "    \"Pancake\", \"Syrup\", \"Pudding\", \"Cheese Steak\", \"Tofu Oat Burger\", \"Flour Tortilla\"\n",
    "]"
   ]
  },
  {
   "cell_type": "code",
   "execution_count": 20,
   "id": "d722769a-0b0d-4359-b86f-b0a17087bf00",
   "metadata": {},
   "outputs": [
    {
     "name": "stdout",
     "output_type": "stream",
     "text": [
      "Cost of diet for M's of age 42 is $2.97 per day.\n",
      "\n",
      "The diet will consist of (in 100s of grams or milliliters):\n",
      "Hot chocolate / Cocoa, made with no sugar added dry mix and low fat milk    5.52\n",
      "Egg, yolk only, raw                                                         0.37\n",
      "Tortilla, corn                                                              2.33\n",
      "Pasta, whole grain, cooked                                                  0.48\n",
      "Rice, white, cooked, made with margarine                                    4.54\n",
      "Cereal, rice flakes                                                         0.05\n",
      "Potato, roasted, from fresh, peel eaten, no added fat                       3.32\n",
      "Mustard greens, fresh, cooked, no added fat                                 0.79\n",
      "dtype: float64\n",
      "\n",
      "With the following nutritional outcomes of interest:\n",
      "                    Outcome  Recommendation\n",
      "Nutrient                                   \n",
      "Energy               2800.0          2800.0\n",
      "Protein           64.514205            56.0\n",
      "Carbohydrate     334.113651           130.0\n",
      "Dietary Fiber          30.8            30.8\n",
      "Linoleic Acid     46.262053            17.0\n",
      "Linolenic Acid     4.711436             1.6\n",
      "Calcium         1329.754263          1000.0\n",
      "Iron              16.809863             8.0\n",
      "Magnesium        499.563171           420.0\n",
      "Phosphorus      2238.453845           700.0\n",
      "Potassium            4700.0          4700.0\n",
      "Zinc                   11.0            11.0\n",
      "Copper             1.586892             0.9\n",
      "Selenium          99.901651            55.0\n",
      "Vitamin A        2047.49189           900.0\n",
      "Vitamin E         35.305105            15.0\n",
      "Vitamin D              15.0            15.0\n",
      "Vitamin C              90.0            90.0\n",
      "Thiamin            1.415105             1.2\n",
      "Riboflavin         2.346302             1.3\n",
      "Niacin             16.72986            16.0\n",
      "Vitamin B6         7.464625             1.3\n",
      "Vitamin B12        3.929762             2.4\n",
      "Choline               550.0           550.0\n",
      "Vitamin K        384.099719           120.0\n",
      "Folate                400.0           400.0\n",
      "Sodium         -2030.119318          2300.0\n",
      "\n",
      "Constraining nutrients are:\n",
      "['Energy', 'Dietary Fiber', 'Potassium', 'Zinc', 'Vitamin D', 'Vitamin C', 'Choline', 'Folate']\n"
     ]
    },
    {
     "data": {
      "text/plain": [
       "'2.97'"
      ]
     },
     "execution_count": 20,
     "metadata": {},
     "output_type": "execute_result"
    }
   ],
   "source": [
    "pen_nutrients = nutrient_search(pen_food_items, nutrients, cut = False)\n",
    "solvercomplete(sex, 42, recipes, pen_nutrients, bmin, bmax)"
   ]
  },
  {
   "cell_type": "code",
   "execution_count": 21,
   "id": "5b593410-0b2f-4cd7-8b8d-b707489ff83c",
   "metadata": {},
   "outputs": [],
   "source": [
    "flo_food_items = [\n",
    "    \"Pancake\", \"Fresh Fruit\", \"Syrup\", \"Biscuit\", \"Jelly\", \"Hashbrown Potato\", \n",
    "    \"Sugar Packet\", \"Meatloaf Patty\", \"Mashed Potato\", \"Cabbage\", \"Sweet Pea\", \n",
    "    \"Dried Beans\", \"Meatball\", \"Italian Red Sauce\", \"Sausage\", \"Buttery Oatmeal\", \n",
    "    \"Potato Salad\", \"Fudge Brownies\", \"Baked Bean\", \"Rice\", \"Green Beans\", \n",
    "    \"Broccoli\", \"Cookie\", \"Tortilla\", \"Lettuce\", \"Pasta Salad\", \"Herbed Chicken Leg\", \n",
    "    \"Bran Flaked Cereal\", \"Carrot\", \"Scrambled Egg\", \"Vegetarian Cheese\", \"Oatmeal\", \n",
    "    \"Toast\", \"Rice\", \"Pasta\", \"Bread\", \"Orange\", \"Banana\", \"Apple\", \"Margarine\", \n",
    "    \"Tea\", \"Coffee\", \"Corn\", \"Sloppy Joe\", \"Taco Skillet\", \"Dressing\", \"Gravy\", \n",
    "    \"Grits\", \"Turkey\", \"Country Patty\", \"Pasta\", \"Buffalo Chicken Patty\", \"Cheese\", \n",
    "    \"Coleslaw\", \"Southern BBQ\", \"Bran Muffin\", \"Blueberry Muffin\", \"Potato\"\n",
    "]"
   ]
  },
  {
   "cell_type": "code",
   "execution_count": 22,
   "id": "4f4d7d4e-985a-4842-987c-64a625f55505",
   "metadata": {},
   "outputs": [
    {
     "name": "stdout",
     "output_type": "stream",
     "text": [
      "Cost of diet for M's of age 42 is $4.31 per day.\n",
      "\n",
      "The diet will consist of (in 100s of grams or milliliters):\n",
      "Liverwurst                                               1.56\n",
      "Tortilla, corn                                           0.50\n",
      "Pasta, whole grain, cooked                               1.64\n",
      "Rice, white, cooked, made with margarine                 2.04\n",
      "Cereal, rice flakes                                      0.21\n",
      "Oatmeal cereal, baby food, dry, instant                  0.68\n",
      "Potato, roasted, from fresh, peel eaten, no added fat    6.81\n",
      "Cabbage, green, raw                                      0.30\n",
      "Corn oil                                                 0.37\n",
      "dtype: float64\n",
      "\n",
      "With the following nutritional outcomes of interest:\n",
      "                    Outcome  Recommendation\n",
      "Nutrient                                   \n",
      "Energy               2800.0          2800.0\n",
      "Protein           64.887773            56.0\n",
      "Carbohydrate     325.157438           130.0\n",
      "Dietary Fiber          30.8            30.8\n",
      "Linoleic Acid     45.759678            17.0\n",
      "Linolenic Acid     3.185275             1.6\n",
      "Calcium              1000.0          1000.0\n",
      "Iron              80.046146             8.0\n",
      "Magnesium        430.995086           420.0\n",
      "Phosphorus      1535.915863           700.0\n",
      "Potassium            4700.0          4700.0\n",
      "Zinc              19.168713            11.0\n",
      "Copper             2.025329             0.9\n",
      "Selenium         184.406973            55.0\n",
      "Vitamin A       7462.248165           900.0\n",
      "Vitamin E         29.231423            15.0\n",
      "Vitamin D              15.0            15.0\n",
      "Vitamin C              90.0            90.0\n",
      "Thiamin            2.750596             1.2\n",
      "Riboflavin         4.288185             1.3\n",
      "Niacin            50.907071            16.0\n",
      "Vitamin B6         6.240829             1.3\n",
      "Vitamin B12       35.551216             2.4\n",
      "Choline               550.0           550.0\n",
      "Vitamin K             120.0           120.0\n",
      "Folate           676.059197           400.0\n",
      "Sodium              -2300.0          2300.0\n",
      "\n",
      "Constraining nutrients are:\n",
      "['Energy', 'Dietary Fiber', 'Calcium', 'Potassium', 'Vitamin D', 'Vitamin C', 'Choline', 'Vitamin K']\n"
     ]
    },
    {
     "data": {
      "text/plain": [
       "'4.31'"
      ]
     },
     "execution_count": 22,
     "metadata": {},
     "output_type": "execute_result"
    }
   ],
   "source": [
    "flo_nutrients = nutrient_search(flo_food_items, nutrients, cut = False)\n",
    "solvercomplete(sex, age,recipes, flo_nutrients, bmin, bmax)"
   ]
  },
  {
   "cell_type": "code",
   "execution_count": 23,
   "id": "6b5c3220-3e70-4698-836c-698d223e466f",
   "metadata": {},
   "outputs": [
    {
     "name": "stdout",
     "output_type": "stream",
     "text": [
      "Cost of diet for M's of age 42 is $2.90 per day.\n",
      "\n",
      "The diet will consist of (in 100s of grams or milliliters):\n",
      "Hot chocolate / Cocoa, made with no sugar added dry mix and low fat milk    3.43\n",
      "Egg, yolk only, raw                                                         0.38\n",
      "Peanut butter, lower sugar                                                  0.62\n",
      "Rice, white, cooked, made with margarine                                    5.11\n",
      "Cereal (Kellogg's All-Bran)                                                 0.41\n",
      "Potato, roasted, from fresh, peel eaten, no added fat                       3.98\n",
      "Mustard greens, fresh, cooked, no added fat                                 0.62\n",
      "dtype: float64\n",
      "\n",
      "With the following nutritional outcomes of interest:\n",
      "                    Outcome  Recommendation\n",
      "Nutrient                                   \n",
      "Energy               2800.0          2800.0\n",
      "Protein           62.021397            56.0\n",
      "Carbohydrate     252.187393           130.0\n",
      "Dietary Fiber          30.8            30.8\n",
      "Linoleic Acid     58.714137            17.0\n",
      "Linolenic Acid     5.297856             1.6\n",
      "Calcium              1000.0          1000.0\n",
      "Iron              20.519964             8.0\n",
      "Magnesium        515.594599           420.0\n",
      "Phosphorus       1853.98127           700.0\n",
      "Potassium            4700.0          4700.0\n",
      "Zinc               13.49268            11.0\n",
      "Copper             1.940917             0.9\n",
      "Selenium          71.487697            55.0\n",
      "Vitamin A        2258.08118           900.0\n",
      "Vitamin E         43.739518            15.0\n",
      "Vitamin D              15.0            15.0\n",
      "Vitamin C              90.0            90.0\n",
      "Thiamin            2.030116             1.2\n",
      "Riboflavin          2.70917             1.3\n",
      "Niacin            27.472991            16.0\n",
      "Vitamin B6        12.723663             1.3\n",
      "Vitamin B12       10.284043             2.4\n",
      "Choline               550.0           550.0\n",
      "Vitamin K        367.363276           120.0\n",
      "Folate           1000.87273           400.0\n",
      "Sodium         -2108.539489          2300.0\n",
      "\n",
      "Constraining nutrients are:\n",
      "['Energy', 'Dietary Fiber', 'Calcium', 'Potassium', 'Vitamin D', 'Vitamin C', 'Choline']\n"
     ]
    },
    {
     "data": {
      "text/plain": [
       "'2.90'"
      ]
     },
     "execution_count": 23,
     "metadata": {},
     "output_type": "execute_result"
    }
   ],
   "source": [
    "# This returns a min-cost diet by using food items from across the 3 state prison menus.\n",
    "\n",
    "combined_nutrients = nutrient_search(cal_food_items + pen_food_items + flo_food_items, nutrients)\n",
    "solvercomplete(sex, age,recipes, combined_nutrients, bmin, bmax)"
   ]
  }
 ],
 "metadata": {
  "kernelspec": {
   "display_name": "Python 3 (ipykernel)",
   "language": "python",
   "name": "python3"
  },
  "language_info": {
   "codemirror_mode": {
    "name": "ipython",
    "version": 3
   },
   "file_extension": ".py",
   "mimetype": "text/x-python",
   "name": "python",
   "nbconvert_exporter": "python",
   "pygments_lexer": "ipython3",
   "version": "3.11.11"
  }
 },
 "nbformat": 4,
 "nbformat_minor": 5
}
