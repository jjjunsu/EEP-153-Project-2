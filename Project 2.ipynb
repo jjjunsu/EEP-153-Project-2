{
 "cells": [
  {
   "cell_type": "markdown",
   "id": "75a8ffb3-84a4-48df-bf33-0f9ce0efdfa3",
   "metadata": {},
   "source": [
    "## The Minimum Cost Prison Diet\n",
    "**Written by: Team Margaret Reid**"
   ]
  },
  {
   "cell_type": "markdown",
   "id": "729c1727-b84c-4232-9b5a-8d3335a0e395",
   "metadata": {},
   "source": [
    "## Introduction"
   ]
  },
  {
   "cell_type": "markdown",
   "id": "b0aa2343-a879-4891-a041-7cefb73dc99e",
   "metadata": {},
   "source": [
    "Prison diets are known to be high in carbohydrates and sodium levels with little or no access to fresh produce. Often, this results in adverse health outcomes and can lead to increased spendings for medical needs. The goal of this project is to identify the minimum cost diet that satisfies nutritional needs for U.S. inmate population using available data on county, state, and federal prisons. We will come up with a minimum cost diet for the average prisoner and investigate whether or not state prisons are able to meet the suggested nutritional requirements based on their weekly menus."
   ]
  },
  {
   "cell_type": "markdown",
   "id": "a10db1f7-e296-419b-9adf-d4b479f5805e",
   "metadata": {},
   "source": [
    "### Setup"
   ]
  },
  {
   "cell_type": "code",
   "execution_count": 5,
   "id": "8a71bdf8-7340-4170-8501-aaa9dc178371",
   "metadata": {},
   "outputs": [],
   "source": [
    "# Uncomment to run the line below when you are opening this notebook for the first time\n",
    "# %pip install -r requirements.txt --upgrade"
   ]
  },
  {
   "cell_type": "code",
   "execution_count": 6,
   "id": "d21fb9da-19fc-47ca-9c99-e0c15107feb8",
   "metadata": {},
   "outputs": [],
   "source": [
    "from Functions import solvercomplete, nutrition, nutrient_search\n",
    "#for documentation on any function run \"function?\", ex nutrition?\n",
    "import numpy as np\n",
    "import pandas as pd\n",
    "from eep153_tools.sheets import read_sheets"
   ]
  },
  {
   "cell_type": "markdown",
   "id": "fab4c36c-2113-43d5-943e-460341a46cda",
   "metadata": {},
   "source": [
    "### Part 1: Setting constraints and general variables"
   ]
  },
  {
   "cell_type": "code",
   "execution_count": 8,
   "id": "7f470097-4092-4c41-aa5e-57e672af8444",
   "metadata": {},
   "outputs": [],
   "source": [
    "age = 35 # Choose an appropriate age\n",
    "sex = \"M\" # Set M for Male and F for Female\n",
    "activity_level = \"Active\" # Options: Moderately Active, Sedentary, or Active"
   ]
  },
  {
   "cell_type": "code",
   "execution_count": 9,
   "id": "00d92e84-c9b2-4ff3-89ff-e89902f7dc97",
   "metadata": {},
   "outputs": [
    {
     "name": "stdout",
     "output_type": "stream",
     "text": [
      "Current minimizing constraints are: \n",
      " \n",
      " Nutrient\n",
      "Energy            3000.0\n",
      "Protein             56.0\n",
      "Carbohydrate       130.0\n",
      "Dietary Fiber       30.8\n",
      "Linoleic Acid       17.0\n",
      "Linolenic Acid       1.6\n",
      "Calcium           1000.0\n",
      "Iron                 8.0\n",
      "Magnesium          420.0\n",
      "Phosphorus         700.0\n",
      "Potassium         4700.0\n",
      "Zinc                11.0\n",
      "Copper               0.9\n",
      "Selenium            55.0\n",
      "Vitamin A          900.0\n",
      "Vitamin E           15.0\n",
      "Vitamin D           15.0\n",
      "Vitamin C           90.0\n",
      "Thiamin              1.2\n",
      "Riboflavin           1.3\n",
      "Niacin              16.0\n",
      "Vitamin B6           1.3\n",
      "Vitamin B12          2.4\n",
      "Choline            550.0\n",
      "Vitamin K          120.0\n",
      "Folate             400.0\n",
      "Name: Male_31_50, dtype: float64\n",
      "Current maximum constraints are: \n",
      " \n",
      " Nutrient\n",
      "Sodium    2300.0\n",
      "Name: Male_31_50, dtype: float64\n"
     ]
    },
    {
     "name": "stderr",
     "output_type": "stream",
     "text": [
      "/home/jovyan/EEP-153-Project-2/Functions.py:40: FutureWarning: Series.__setitem__ treating keys as positions is deprecated. In a future version, integer keys will always be treated as labels (consistent with DataFrame behavior). To set a value by position, use `ser.iloc[pos] = value`\n",
      "  bmin[0] = active_energy\n"
     ]
    }
   ],
   "source": [
    "# time to make minimizing and maximizing constraints\n",
    "bmin, bmax = nutrition(age, sex, activity_level)\n",
    "print(f\"Current minimizing constraints are: \\n \\n {bmin}\")\n",
    "print(f\"Current maximum constraints are: \\n \\n {bmax}\")"
   ]
  },
  {
   "cell_type": "markdown",
   "id": "d63d5ced-04b5-44d2-b64c-0df47f877e0b",
   "metadata": {},
   "source": [
    "#### A Note On Case Specific Constraint Editing\n",
    "Feel free to add in other maximizing constraints if you think they are relevant. Just make sure to justify them"
   ]
  },
  {
   "cell_type": "markdown",
   "id": "66303f8d-ccd3-404f-aab0-33952ad9c87b",
   "metadata": {},
   "source": [
    "### Part 2: Determining recipe and nutrition set"
   ]
  },
  {
   "cell_type": "markdown",
   "id": "9ca60d79-94cb-4be8-b800-18daf7d7556a",
   "metadata": {},
   "source": [
    "**Nutrition set is what constrains the options, since we are using a left join (or merge) on nutrients and recipes. The Nutrition dataset provides nutritional values and the recipe set provides weights**"
   ]
  },
  {
   "cell_type": "code",
   "execution_count": 10,
   "id": "f5b4e70a-19b4-4b57-9e7b-37cdcca96f7f",
   "metadata": {},
   "outputs": [],
   "source": [
    "data_url = \"https://docs.google.com/spreadsheets/d/1xqixhrAoDq9rWJf_FC3Y2eXdd010DTLPCS7JJMCfwP8/edit?usp=sharing\"\n",
    "recipes = read_sheets(data_url, sheet=\"recipes\")\n",
    "nutrients = read_sheets(data_url, sheet=\"nutrients\")"
   ]
  },
  {
   "cell_type": "markdown",
   "id": "ec2d790d-1922-4520-91c4-4cf9d2191a23",
   "metadata": {},
   "source": [
    "**Now, drop any foods within ingredients that you want in order to constrain to the specific area of interest (ex. particular population or prison)**"
   ]
  },
  {
   "cell_type": "markdown",
   "id": "f49586e1-1e6e-4351-845c-29247824188f",
   "metadata": {},
   "source": [
    "Below is a search function. Feel free to use it to either view particular foods within the dataset or set cut = True if you want to simply cut out all food options in the final result that have the search term in it. The function searches by Ingredient Description."
   ]
  },
  {
   "cell_type": "code",
   "execution_count": 20,
   "id": "40034120-1ecb-45bc-af17-271f97f5bb06",
   "metadata": {},
   "outputs": [
    {
     "data": {
      "text/html": [
       "<div>\n",
       "<style scoped>\n",
       "    .dataframe tbody tr th:only-of-type {\n",
       "        vertical-align: middle;\n",
       "    }\n",
       "\n",
       "    .dataframe tbody tr th {\n",
       "        vertical-align: top;\n",
       "    }\n",
       "\n",
       "    .dataframe thead th {\n",
       "        text-align: right;\n",
       "    }\n",
       "</style>\n",
       "<table border=\"1\" class=\"dataframe\">\n",
       "  <thead>\n",
       "    <tr style=\"text-align: right;\">\n",
       "      <th></th>\n",
       "      <th>ingred_code</th>\n",
       "      <th>Ingredient description</th>\n",
       "      <th>Capric acid</th>\n",
       "      <th>Lauric acid</th>\n",
       "      <th>Myristic acid</th>\n",
       "      <th>Palmitic acid</th>\n",
       "      <th>Palmitoleic acid</th>\n",
       "      <th>Stearic acid</th>\n",
       "      <th>Oleic acid</th>\n",
       "      <th>Linoleic Acid</th>\n",
       "      <th>...</th>\n",
       "      <th>Vitamin B12</th>\n",
       "      <th>Vitamin B-12, added</th>\n",
       "      <th>Vitamin B6</th>\n",
       "      <th>Vitamin C</th>\n",
       "      <th>Vitamin D</th>\n",
       "      <th>Vitamin E</th>\n",
       "      <th>Vitamin E, added</th>\n",
       "      <th>Vitamin K</th>\n",
       "      <th>Water</th>\n",
       "      <th>Zinc</th>\n",
       "    </tr>\n",
       "  </thead>\n",
       "  <tbody>\n",
       "    <tr>\n",
       "      <th>9</th>\n",
       "      <td>1012</td>\n",
       "      <td>Cheese, cottage, creamed, large or small curd</td>\n",
       "      <td>0.064</td>\n",
       "      <td>0.070</td>\n",
       "      <td>0.263</td>\n",
       "      <td>0.778</td>\n",
       "      <td>0.047</td>\n",
       "      <td>0.345</td>\n",
       "      <td>0.714</td>\n",
       "      <td>0.105</td>\n",
       "      <td>...</td>\n",
       "      <td>0.43</td>\n",
       "      <td>0.0</td>\n",
       "      <td>0.046</td>\n",
       "      <td>0.0</td>\n",
       "      <td>0.1</td>\n",
       "      <td>0.08</td>\n",
       "      <td>0.0</td>\n",
       "      <td>0.0</td>\n",
       "      <td>79.79</td>\n",
       "      <td>0.40</td>\n",
       "    </tr>\n",
       "    <tr>\n",
       "      <th>10</th>\n",
       "      <td>1013</td>\n",
       "      <td>Cheese, cottage, creamed, with fruit</td>\n",
       "      <td>0.070</td>\n",
       "      <td>0.061</td>\n",
       "      <td>0.401</td>\n",
       "      <td>1.159</td>\n",
       "      <td>0.137</td>\n",
       "      <td>0.438</td>\n",
       "      <td>0.899</td>\n",
       "      <td>0.088</td>\n",
       "      <td>...</td>\n",
       "      <td>0.53</td>\n",
       "      <td>0.0</td>\n",
       "      <td>0.068</td>\n",
       "      <td>1.4</td>\n",
       "      <td>0.0</td>\n",
       "      <td>0.04</td>\n",
       "      <td>0.0</td>\n",
       "      <td>0.4</td>\n",
       "      <td>79.64</td>\n",
       "      <td>0.33</td>\n",
       "    </tr>\n",
       "    <tr>\n",
       "      <th>11</th>\n",
       "      <td>1014</td>\n",
       "      <td>Cheese, cottage, nonfat, uncreamed, dry, large...</td>\n",
       "      <td>0.009</td>\n",
       "      <td>0.006</td>\n",
       "      <td>0.020</td>\n",
       "      <td>0.070</td>\n",
       "      <td>0.012</td>\n",
       "      <td>0.050</td>\n",
       "      <td>0.067</td>\n",
       "      <td>0.003</td>\n",
       "      <td>...</td>\n",
       "      <td>0.46</td>\n",
       "      <td>0.0</td>\n",
       "      <td>0.016</td>\n",
       "      <td>0.0</td>\n",
       "      <td>0.0</td>\n",
       "      <td>0.01</td>\n",
       "      <td>0.0</td>\n",
       "      <td>0.0</td>\n",
       "      <td>81.01</td>\n",
       "      <td>0.47</td>\n",
       "    </tr>\n",
       "    <tr>\n",
       "      <th>14</th>\n",
       "      <td>1017</td>\n",
       "      <td>Cheese, cream</td>\n",
       "      <td>0.868</td>\n",
       "      <td>1.004</td>\n",
       "      <td>3.275</td>\n",
       "      <td>9.405</td>\n",
       "      <td>0.651</td>\n",
       "      <td>3.365</td>\n",
       "      <td>7.776</td>\n",
       "      <td>1.212</td>\n",
       "      <td>...</td>\n",
       "      <td>0.22</td>\n",
       "      <td>0.0</td>\n",
       "      <td>0.056</td>\n",
       "      <td>0.0</td>\n",
       "      <td>0.0</td>\n",
       "      <td>0.86</td>\n",
       "      <td>0.0</td>\n",
       "      <td>2.1</td>\n",
       "      <td>52.62</td>\n",
       "      <td>0.50</td>\n",
       "    </tr>\n",
       "    <tr>\n",
       "      <th>40</th>\n",
       "      <td>1050</td>\n",
       "      <td>Cream, fluid, light (coffee cream or table cream)</td>\n",
       "      <td>0.456</td>\n",
       "      <td>0.526</td>\n",
       "      <td>1.682</td>\n",
       "      <td>4.585</td>\n",
       "      <td>0.334</td>\n",
       "      <td>1.719</td>\n",
       "      <td>3.952</td>\n",
       "      <td>0.654</td>\n",
       "      <td>...</td>\n",
       "      <td>0.14</td>\n",
       "      <td>0.0</td>\n",
       "      <td>0.044</td>\n",
       "      <td>0.8</td>\n",
       "      <td>1.1</td>\n",
       "      <td>0.12</td>\n",
       "      <td>0.0</td>\n",
       "      <td>1.7</td>\n",
       "      <td>74.51</td>\n",
       "      <td>0.32</td>\n",
       "    </tr>\n",
       "  </tbody>\n",
       "</table>\n",
       "<p>5 rows × 67 columns</p>\n",
       "</div>"
      ],
      "text/plain": [
       "    ingred_code                             Ingredient description  \\\n",
       "9          1012      Cheese, cottage, creamed, large or small curd   \n",
       "10         1013               Cheese, cottage, creamed, with fruit   \n",
       "11         1014  Cheese, cottage, nonfat, uncreamed, dry, large...   \n",
       "14         1017                                      Cheese, cream   \n",
       "40         1050  Cream, fluid, light (coffee cream or table cream)   \n",
       "\n",
       "    Capric acid  Lauric acid  Myristic acid  Palmitic acid  Palmitoleic acid  \\\n",
       "9         0.064        0.070          0.263          0.778             0.047   \n",
       "10        0.070        0.061          0.401          1.159             0.137   \n",
       "11        0.009        0.006          0.020          0.070             0.012   \n",
       "14        0.868        1.004          3.275          9.405             0.651   \n",
       "40        0.456        0.526          1.682          4.585             0.334   \n",
       "\n",
       "    Stearic acid  Oleic acid  Linoleic Acid  ...  Vitamin B12  \\\n",
       "9          0.345       0.714          0.105  ...         0.43   \n",
       "10         0.438       0.899          0.088  ...         0.53   \n",
       "11         0.050       0.067          0.003  ...         0.46   \n",
       "14         3.365       7.776          1.212  ...         0.22   \n",
       "40         1.719       3.952          0.654  ...         0.14   \n",
       "\n",
       "    Vitamin B-12, added  Vitamin B6  Vitamin C  Vitamin D  Vitamin E  \\\n",
       "9                   0.0       0.046        0.0        0.1       0.08   \n",
       "10                  0.0       0.068        1.4        0.0       0.04   \n",
       "11                  0.0       0.016        0.0        0.0       0.01   \n",
       "14                  0.0       0.056        0.0        0.0       0.86   \n",
       "40                  0.0       0.044        0.8        1.1       0.12   \n",
       "\n",
       "    Vitamin E, added  Vitamin K  Water  Zinc  \n",
       "9                0.0        0.0  79.79  0.40  \n",
       "10               0.0        0.4  79.64  0.33  \n",
       "11               0.0        0.0  81.01  0.47  \n",
       "14               0.0        2.1  52.62  0.50  \n",
       "40               0.0        1.7  74.51  0.32  \n",
       "\n",
       "[5 rows x 67 columns]"
      ]
     },
     "execution_count": 20,
     "metadata": {},
     "output_type": "execute_result"
    }
   ],
   "source": [
    "#example use\n",
    "nutrient_search('Cream', nutrients).head()\n",
    "#other example uses\n",
    "# nutrient_search(['dog', 'cinnamon'], nutrients) \n",
    "# -> this would return all entries containing dog or cinnamon\n",
    "# nutrient_search(['dog', 'cinnamon'], nutrients, cut = True) \n",
    "# -> this would return all entries not containing dog or cinammon (acting as a filter)\n",
    "# nutrient_search('cheese', nutrients)\n",
    "# -> this would return all entries containing cheese in ingredient descriptions"
   ]
  },
  {
   "cell_type": "markdown",
   "id": "f696a92e-9b32-418d-8bf8-6b49eab928b2",
   "metadata": {},
   "source": [
    "## Running the optimization\n",
    "Here is a call to the optimization function. Make sure to pass in the updated nutrients you use to the function: *solvercomplete(sex, age,recipes, **updated nutrients**, bmin, bmax)*"
   ]
  },
  {
   "cell_type": "code",
   "execution_count": 22,
   "id": "35872dd1-a8a8-4d0f-89a4-d7ccc3a8ad52",
   "metadata": {},
   "outputs": [
    {
     "data": {
      "text/plain": [
       "\u001b[0;31mSignature:\u001b[0m \u001b[0mnutrition\u001b[0m\u001b[0;34m(\u001b[0m\u001b[0mage\u001b[0m\u001b[0;34m,\u001b[0m \u001b[0msex\u001b[0m\u001b[0;34m,\u001b[0m \u001b[0mactivity_level\u001b[0m\u001b[0;34m=\u001b[0m\u001b[0;32mFalse\u001b[0m\u001b[0;34m)\u001b[0m\u001b[0;34m\u001b[0m\u001b[0;34m\u001b[0m\u001b[0m\n",
       "\u001b[0;31mDocstring:\u001b[0m\n",
       "    takes the following\n",
       "    age: integer from 2 through 120\n",
       "    sex: either \"F\" for female or \"M\" for male\n",
       "    activity_level: \"Sedentary\", \"Moderately\n",
       "Active\", or \"Active\".\n",
       "    outputs:\n",
       "    bmin: A series object indexed by nutrition category with the series being the values respective to the age range from input.\n",
       "    to the age range from input\n",
       "    A series object indexed by nutrition category with the series being the values respective \n",
       "    to the age range from input. Energy is changed based on activity level or baseline activity which is sedentary I believe.\n",
       "    \n",
       "\u001b[0;31mFile:\u001b[0m      ~/EEP-153-Project-2/p2utilityfunctions.py\n",
       "\u001b[0;31mType:\u001b[0m      function"
      ]
     },
     "metadata": {},
     "output_type": "display_data"
    }
   ],
   "source": [
    "nutrition?"
   ]
  },
  {
   "cell_type": "code",
   "execution_count": 86,
   "id": "ede8b12e-67a5-4f11-8a97-53be4ead5bc9",
   "metadata": {},
   "outputs": [
    {
     "name": "stderr",
     "output_type": "stream",
     "text": [
      "/home/jovyan/EEP-153-Project-2/p2utilityfunctions.py:40: FutureWarning: Series.__setitem__ treating keys as positions is deprecated. In a future version, integer keys will always be treated as labels (consistent with DataFrame behavior). To set a value by position, use `ser.iloc[pos] = value`\n",
      "  bmin[0] = active_energy\n"
     ]
    },
    {
     "name": "stdout",
     "output_type": "stream",
     "text": [
      "Cost of diet for M's of age 19 is $3.71 per day.\n",
      "\n",
      "The diet will consist of (in 100s of grams or milliliters):\n",
      "Milk, low fat (1%)                                          4.51\n",
      "Soy milk, light, chocolate                                  7.87\n",
      "Liverwurst                                                  0.03\n",
      "Peanut butter, lower sugar                                  2.98\n",
      "Tortilla, corn                                              0.36\n",
      "Noodles, vegetable, cooked                                  0.65\n",
      "Grits, NS as to regular, quick, or instant, no added fat    1.08\n",
      "Fruit juice blend, citrus, 100% juice                       2.21\n",
      "Corn oil                                                    0.07\n",
      "Mayonnaise, regular                                         0.15\n",
      "dtype: float64\n",
      "\n",
      "With the following nutritional outcomes of interest:\n",
      "                    Outcome  Recommendation\n",
      "Nutrient                                   \n",
      "Energy               3000.0          3000.0\n",
      "Protein          113.571278            56.0\n",
      "Carbohydrate     200.030533           130.0\n",
      "Dietary Fiber          33.6            33.6\n",
      "Linoleic Acid     61.611768            17.0\n",
      "Linolenic Acid          1.6             1.6\n",
      "Calcium          1808.29139          1000.0\n",
      "Iron              15.642098             8.0\n",
      "Magnesium        725.474307           400.0\n",
      "Phosphorus       2355.38719           700.0\n",
      "Potassium            4700.0          4700.0\n",
      "Zinc              15.395982            11.0\n",
      "Copper             4.073196             0.9\n",
      "Selenium          76.666539            55.0\n",
      "Vitamin A             900.0           900.0\n",
      "Vitamin E          27.22633            15.0\n",
      "Vitamin D              15.0            15.0\n",
      "Vitamin C              90.0            90.0\n",
      "Thiamin                 1.2             1.2\n",
      "Riboflavin          3.04354             1.3\n",
      "Niacin            56.060467            16.0\n",
      "Vitamin B6         2.194691             1.3\n",
      "Vitamin B12       10.801577             2.4\n",
      "Choline               550.0           550.0\n",
      "Vitamin K             120.0           120.0\n",
      "Folate           614.352936           400.0\n",
      "Sodium         -1590.118784          2300.0\n",
      "\n",
      "Constraining nutrients are:\n",
      "['Energy', 'Dietary Fiber', 'Linolenic Acid', 'Potassium', 'Vitamin A', 'Vitamin D', 'Vitamin C', 'Thiamin', 'Choline', 'Vitamin K']\n"
     ]
    },
    {
     "name": "stderr",
     "output_type": "stream",
     "text": [
      "/home/jovyan/EEP-153-Project-2/p2utilityfunctions.py:40: FutureWarning: Series.__setitem__ treating keys as positions is deprecated. In a future version, integer keys will always be treated as labels (consistent with DataFrame behavior). To set a value by position, use `ser.iloc[pos] = value`\n",
      "  bmin[0] = active_energy\n"
     ]
    },
    {
     "name": "stdout",
     "output_type": "stream",
     "text": [
      "Cost of diet for M's of age 35 is $3.68 per day.\n",
      "\n",
      "The diet will consist of (in 100s of grams or milliliters):\n",
      "Milk, low fat (1%)                                               4.15\n",
      "Soy milk, light, chocolate                                       7.33\n",
      "Chocolate milk, made from reduced sugar mix with low fat milk    0.94\n",
      "Liverwurst                                                       0.04\n",
      "Peanut butter, lower sugar                                       2.99\n",
      "Noodles, vegetable, cooked                                       0.30\n",
      "Grits, NS as to regular, quick, or instant, no added fat         1.47\n",
      "Fruit juice blend, citrus, 100% juice                            2.16\n",
      "Mayonnaise, regular                                              0.37\n",
      "dtype: float64\n",
      "\n",
      "With the following nutritional outcomes of interest:\n",
      "                    Outcome  Recommendation\n",
      "Nutrient                                   \n",
      "Energy               3000.0          3000.0\n",
      "Protein          111.547992            56.0\n",
      "Carbohydrate     179.997932           130.0\n",
      "Dietary Fiber          30.8            30.8\n",
      "Linoleic Acid     66.190997            17.0\n",
      "Linolenic Acid     2.724296             1.6\n",
      "Calcium          1811.13124          1000.0\n",
      "Iron              14.871542             8.0\n",
      "Magnesium        708.100408           420.0\n",
      "Phosphorus      2258.375918           700.0\n",
      "Potassium            4700.0          4700.0\n",
      "Zinc              15.446378            11.0\n",
      "Copper             3.970246             0.9\n",
      "Selenium          70.080226            55.0\n",
      "Vitamin A             900.0           900.0\n",
      "Vitamin E         26.660016            15.0\n",
      "Vitamin D              15.0            15.0\n",
      "Vitamin C              90.0            90.0\n",
      "Thiamin                 1.2             1.2\n",
      "Riboflavin         3.003376             1.3\n",
      "Niacin            56.149354            16.0\n",
      "Vitamin B6         2.163086             1.3\n",
      "Vitamin B12       10.499568             2.4\n",
      "Choline               550.0           550.0\n",
      "Vitamin K             120.0           120.0\n",
      "Folate           598.890856           400.0\n",
      "Sodium         -1741.401782          2300.0\n",
      "\n",
      "Constraining nutrients are:\n",
      "['Energy', 'Dietary Fiber', 'Potassium', 'Vitamin A', 'Vitamin D', 'Vitamin C', 'Thiamin', 'Choline', 'Vitamin K']\n"
     ]
    },
    {
     "name": "stderr",
     "output_type": "stream",
     "text": [
      "/home/jovyan/EEP-153-Project-2/p2utilityfunctions.py:40: FutureWarning: Series.__setitem__ treating keys as positions is deprecated. In a future version, integer keys will always be treated as labels (consistent with DataFrame behavior). To set a value by position, use `ser.iloc[pos] = value`\n",
      "  bmin[0] = active_energy\n"
     ]
    },
    {
     "name": "stdout",
     "output_type": "stream",
     "text": [
      "Cost of diet for M's of age 51 is $3.62 per day.\n",
      "\n",
      "The diet will consist of (in 100s of grams or milliliters):\n",
      "Milk, low fat (1%)                                               2.70\n",
      "Soy milk, light, chocolate                                       5.19\n",
      "Chocolate milk, made from reduced sugar mix with low fat milk    4.69\n",
      "Liverwurst                                                       0.04\n",
      "Peanut butter, lower sugar                                       2.69\n",
      "Noodles, vegetable, cooked                                       0.39\n",
      "Grits, NS as to regular, quick, or instant, no added fat         0.37\n",
      "Fruit juice blend, citrus, 100% juice                            1.94\n",
      "Mayonnaise, regular                                              0.36\n",
      "dtype: float64\n",
      "\n",
      "With the following nutritional outcomes of interest:\n",
      "                    Outcome  Recommendation\n",
      "Nutrient                                   \n",
      "Energy               2800.0          2800.0\n",
      "Protein          107.772569            56.0\n",
      "Carbohydrate      167.15356           130.0\n",
      "Dietary Fiber          28.0            28.0\n",
      "Linoleic Acid     60.507681            14.0\n",
      "Linolenic Acid     2.578897             1.6\n",
      "Calcium         1940.027277          1200.0\n",
      "Iron              13.003492             8.0\n",
      "Magnesium        712.890123           420.0\n",
      "Phosphorus      2240.576667           700.0\n",
      "Potassium            4700.0          4700.0\n",
      "Zinc              16.979573            11.0\n",
      "Copper             3.634176             0.9\n",
      "Selenium          73.957452            55.0\n",
      "Vitamin A             900.0           900.0\n",
      "Vitamin E         24.027556            15.0\n",
      "Vitamin D              15.0            15.0\n",
      "Vitamin C              90.0            90.0\n",
      "Thiamin                 1.2             1.2\n",
      "Riboflavin         2.947202             1.3\n",
      "Niacin            54.083995            16.0\n",
      "Vitamin B6         2.283631             1.7\n",
      "Vitamin B12        9.402205             2.4\n",
      "Choline               550.0           550.0\n",
      "Vitamin K             120.0           120.0\n",
      "Folate            528.23206           400.0\n",
      "Sodium         -1749.180656          2300.0\n",
      "\n",
      "Constraining nutrients are:\n",
      "['Energy', 'Dietary Fiber', 'Potassium', 'Vitamin A', 'Vitamin D', 'Vitamin C', 'Thiamin', 'Choline', 'Vitamin K']\n"
     ]
    }
   ],
   "source": [
    "import time\n",
    "start_time = time.time()\n",
    "ages = [19, 35, 51]\n",
    "output = []\n",
    "for agesp in ages:\n",
    "    bmin, bmax = nutrition(agesp, sex, \"Active\")\n",
    "    cost = solvercomplete(sex, agesp, recipes, nutrients, bmin, bmax)\n",
    "    output += [cost]\n",
    "end_time = time.time()"
   ]
  },
  {
   "cell_type": "code",
   "execution_count": 17,
   "id": "7928e78e-a37f-4f9a-aa3e-3a1c9198b928",
   "metadata": {},
   "outputs": [
    {
     "name": "stdout",
     "output_type": "stream",
     "text": [
      "Execution time: 42.87 seconds\n",
      "[19, 35, 51]\n",
      "['4.95', '4.88', '4.76']\n"
     ]
    }
   ],
   "source": [
    "print(f\"Execution time: {end_time - start_time:.2f} seconds\")\n",
    "print(ages)\n",
    "print(output)"
   ]
  },
  {
   "cell_type": "code",
   "execution_count": 28,
   "id": "baed21a8-00a2-45e1-9e4e-55d7c4281ebc",
   "metadata": {},
   "outputs": [
    {
     "name": "stdout",
     "output_type": "stream",
     "text": [
      "Cost of diet for M's of age 35 is $5.02 per day.\n",
      "\n",
      "The diet will consist of (in 100s of grams or milliliters):\n",
      "Milk, low fat (1%)                                     25.42\n",
      "Whole wheat cereal, cooked, no added fat               24.91\n",
      "Cereal (Post Honey Bunches of Oats with Almonds)        0.01\n",
      "Mayonnaise, regular                                     0.93\n",
      "Fruit juice drink, with high vitamin C, light           1.24\n",
      "Water, bottled, flavored (Capri Sun Roarin' Waters)     3.95\n",
      "dtype: float64\n",
      "\n",
      "With the following nutritional outcomes of interest:\n",
      "                    Outcome  Recommendation\n",
      "Nutrient                                   \n",
      "Energy               2800.0          2800.0\n",
      "Protein          119.546426            56.0\n",
      "Carbohydrate     372.121232           130.0\n",
      "Dietary Fiber          28.0            28.0\n",
      "Linoleic Acid     39.869637            14.0\n",
      "Linolenic Acid     5.389177             1.6\n",
      "Calcium         3381.501695          1200.0\n",
      "Iron              11.407889             8.0\n",
      "Magnesium        653.935068           420.0\n",
      "Phosphorus      3546.669575           700.0\n",
      "Potassium       5028.155863          4700.0\n",
      "Zinc               19.89929            11.0\n",
      "Copper             1.651179             0.9\n",
      "Selenium         293.194606            55.0\n",
      "Vitamin A         1624.5173           900.0\n",
      "Vitamin E              15.0            15.0\n",
      "Vitamin D         30.726095            15.0\n",
      "Vitamin C              90.0            90.0\n",
      "Thiamin            1.708073             1.2\n",
      "Riboflavin         5.623673             1.3\n",
      "Niacin             20.28214            16.0\n",
      "Vitamin B6         2.469056             1.7\n",
      "Vitamin B12       13.107541             2.4\n",
      "Choline               550.0           550.0\n",
      "Vitamin K        162.334646           120.0\n",
      "Folate                400.0           400.0\n",
      "Sodium         -1757.223671          2300.0\n",
      "\n",
      "Constraining nutrients are:\n",
      "['Energy', 'Dietary Fiber', 'Vitamin E', 'Vitamin C', 'Choline', 'Folate']\n",
      "Execution time: 10.83 seconds\n"
     ]
    }
   ],
   "source": [
    "import time\n",
    "\n",
    "start_time = time.time()\n",
    "solvercomplete(sex, age, recipes, nutrients, bmin, bmax)\n",
    "end_time = time.time()\n",
    "\n",
    "print(f\"Execution time: {end_time - start_time:.2f} seconds\")"
   ]
  },
  {
   "cell_type": "code",
   "execution_count": 85,
   "id": "665da05c-d612-4171-a4d5-0532ea74ac31",
   "metadata": {},
   "outputs": [
    {
     "name": "stdout",
     "output_type": "stream",
     "text": [
      "Cost of diet for M's of age 35 is $3.68 per day.\n",
      "\n",
      "The diet will consist of (in 100s of grams or milliliters):\n",
      "Milk, low fat (1%)                                               4.15\n",
      "Soy milk, light, chocolate                                       7.33\n",
      "Chocolate milk, made from reduced sugar mix with low fat milk    0.94\n",
      "Liverwurst                                                       0.04\n",
      "Peanut butter, lower sugar                                       2.99\n",
      "Noodles, vegetable, cooked                                       0.30\n",
      "Grits, NS as to regular, quick, or instant, no added fat         1.47\n",
      "Fruit juice blend, citrus, 100% juice                            2.16\n",
      "Mayonnaise, regular                                              0.37\n",
      "dtype: float64\n",
      "\n",
      "With the following nutritional outcomes of interest:\n",
      "                    Outcome  Recommendation\n",
      "Nutrient                                   \n",
      "Energy               3000.0          3000.0\n",
      "Protein          111.547992            56.0\n",
      "Carbohydrate     179.997932           130.0\n",
      "Dietary Fiber          30.8            30.8\n",
      "Linoleic Acid     66.190997            17.0\n",
      "Linolenic Acid     2.724296             1.6\n",
      "Calcium          1811.13124          1000.0\n",
      "Iron              14.871542             8.0\n",
      "Magnesium        708.100408           420.0\n",
      "Phosphorus      2258.375918           700.0\n",
      "Potassium            4700.0          4700.0\n",
      "Zinc              15.446378            11.0\n",
      "Copper             3.970246             0.9\n",
      "Selenium          70.080226            55.0\n",
      "Vitamin A             900.0           900.0\n",
      "Vitamin E         26.660016            15.0\n",
      "Vitamin D              15.0            15.0\n",
      "Vitamin C              90.0            90.0\n",
      "Thiamin                 1.2             1.2\n",
      "Riboflavin         3.003376             1.3\n",
      "Niacin            56.149354            16.0\n",
      "Vitamin B6         2.163086             1.3\n",
      "Vitamin B12       10.499568             2.4\n",
      "Choline               550.0           550.0\n",
      "Vitamin K             120.0           120.0\n",
      "Folate           598.890856           400.0\n",
      "Sodium         -1741.401782          2300.0\n",
      "\n",
      "Constraining nutrients are:\n",
      "['Energy', 'Dietary Fiber', 'Potassium', 'Vitamin A', 'Vitamin D', 'Vitamin C', 'Thiamin', 'Choline', 'Vitamin K']\n"
     ]
    },
    {
     "data": {
      "text/plain": [
       "'3.68'"
      ]
     },
     "execution_count": 85,
     "metadata": {},
     "output_type": "execute_result"
    }
   ],
   "source": [
    "solvercomplete(sex, age,recipes, nutrients, bmin, bmax)"
   ]
  },
  {
   "cell_type": "markdown",
   "id": "335bf2ed-6e37-4444-923a-1f9928bfe4c2",
   "metadata": {},
   "source": [
    "## Analysis on State Prison Menus"
   ]
  },
  {
   "cell_type": "markdown",
   "id": "9c356bfe-86d3-4ee6-a1fb-4082a9f806d1",
   "metadata": {},
   "source": [
    "The lists of food items in this section are adapted from state prison weekly menus in California, Pennyslvania, and Florida. Using these food items to calculate a min-cost diet will tell us whether the menus are able to satisfy nutritional needs and if so, whether or not it is at an affordable price."
   ]
  },
  {
   "cell_type": "code",
   "execution_count": 30,
   "id": "7c16506e-6625-4f6c-80f2-ba7a4fdcd6b4",
   "metadata": {},
   "outputs": [],
   "source": [
    "cal_food_items = [\n",
    "    \"Apple Juice\", \"Orange Juice\", \"Oatmeal\", \"Creamed Beef\", \"Biscuit\", \"Diced Potatoes\", \n",
    "    \"Ketchup\", \"1% Milk\", \"Coffee\", \"Pinto Bean\", \"Gravy\", \"Milk\", \"Peanut Butter\", \"Jelly\", \n",
    "    \"Almond\", \"Oatmeal Cookie\", \"Apple\", \"Orange\", \"Banana\", \"Lettuce\", \"Chicken Vegetable Stew\", \n",
    "    \"Corn Bread\", \"Turkey Hot Dog\", \"Vegetable Stew\", \"Low Fat Yogurt\", \"Bran Cake\", \"Bologna\", \n",
    "    \"Mayonnaise\", \"Mustard\", \"Whole Wheat Bread\", \"Corn Chips\", \"Coleslaw\", \"Hot Link\", \n",
    "    \"New Orleans Red Bean\", \"Red Bean\", \"Rice\", \"Cake with Icing\", \"Chocolate Milk\", \"Cereal\", \"Egg\", \n",
    "    \"Onions\", \"Bell Peppers\", \"Hummus\", \"Pretzel\", \"Sunflower Seed\", \"Bean & Cheese Burrito\", \n",
    "    \"Breakfast Burritos\", \"Chicken Chorizo\", \"Taco Sauce\", \"Tortillas\", \"Shredded Cheese\", \n",
    "    \"Roasted Chicken Lunchmeat\", \"Peanut Butter Cracker\", \"Gold Fish\", \"Chicken Taco Salad\", \n",
    "    \"Corn Tortilla\", \"Cheese Pizza\", \"Italian White Beans\", \"Pancake\", \"Syrup\", \"Beef Ravioli\", \n",
    "    \"Tuscan Style Bean\", \"Sugar Free Beverage\", \"Carrots\", \"Broccoli\", \"Chicken\"\n",
    "]"
   ]
  },
  {
   "cell_type": "code",
   "execution_count": 31,
   "id": "17eae122-5d35-4f02-955b-46aa009a77ad",
   "metadata": {},
   "outputs": [
    {
     "name": "stdout",
     "output_type": "stream",
     "text": [
      "Cost of diet for M's of age 35 is $3.59 per day.\n",
      "\n",
      "The diet will consist of (in 100s of grams or milliliters):\n",
      "Milk, low fat (1%)                             7.68\n",
      "Egg, yolk only, raw                            0.30\n",
      "Peanut butter, reduced fat                     1.30\n",
      "Chinese pancake                                5.15\n",
      "Cereal, toasted oat                            0.58\n",
      "Banana, raw                                    5.02\n",
      "Mustard greens, fresh, cooked, no added fat    0.31\n",
      "Mayonnaise, regular                            0.22\n",
      "Fruit juice drink, added calcium (Sunny D)     0.52\n",
      "dtype: float64\n",
      "\n",
      "With the following nutritional outcomes of interest:\n",
      "                    Outcome  Recommendation\n",
      "Nutrient                                   \n",
      "Energy               3000.0          3000.0\n",
      "Protein            97.82343            56.0\n",
      "Carbohydrate     486.053327           130.0\n",
      "Dietary Fiber          30.8            30.8\n",
      "Linoleic Acid     23.428104            17.0\n",
      "Linolenic Acid          1.6             1.6\n",
      "Calcium         1446.562801          1000.0\n",
      "Iron              36.578316             8.0\n",
      "Magnesium        609.997494           420.0\n",
      "Phosphorus      2108.093445           700.0\n",
      "Potassium            4700.0          4700.0\n",
      "Zinc              19.364137            11.0\n",
      "Copper             2.202751             0.9\n",
      "Selenium         129.181254            55.0\n",
      "Vitamin A       1255.785964           900.0\n",
      "Vitamin E              15.0            15.0\n",
      "Vitamin D              15.0            15.0\n",
      "Vitamin C              90.0            90.0\n",
      "Thiamin            3.259804             1.2\n",
      "Riboflavin         3.088287             1.3\n",
      "Niacin            45.836631            16.0\n",
      "Vitamin B6          4.21292             1.3\n",
      "Vitamin B12        7.324848             2.4\n",
      "Choline               550.0           550.0\n",
      "Vitamin K             120.0           120.0\n",
      "Folate          1356.317806           400.0\n",
      "Sodium         -1575.898843          2300.0\n",
      "\n",
      "Constraining nutrients are:\n",
      "['Energy', 'Dietary Fiber', 'Linolenic Acid', 'Potassium', 'Vitamin E', 'Vitamin D', 'Vitamin C', 'Choline', 'Vitamin K']\n"
     ]
    },
    {
     "data": {
      "text/plain": [
       "'3.59'"
      ]
     },
     "execution_count": 31,
     "metadata": {},
     "output_type": "execute_result"
    }
   ],
   "source": [
    "cal_nutrients = nutrient_search(cal_food_items, nutrients, cut = False)\n",
    "solvercomplete(sex, age, recipes, cal_nutrients, bmin, bmax)"
   ]
  },
  {
   "cell_type": "code",
   "execution_count": 16,
   "id": "314676f3-2520-4897-9c68-5b2560712c0a",
   "metadata": {},
   "outputs": [],
   "source": [
    "pen_food_items = [\n",
    "    \"Grit\", \"Egg\", \"Toast\", \"Margarine\", \"Milk\", \"Coffee\", \"Sugar\", \n",
    "    \"Apple\", \"Orange\", \"Banana\", \"Meatloaf Patty\", \"Soy Loaf\", \"Gravy\", \"Whipped Potato\", \n",
    "    \"Wax Bean\", \"Bread\", \"Grilled Cheese Sandwich\", \"Peanut Butter\", \"Jelly\", \"Tomato Soup\", \n",
    "    \"Pasta\", \"Oatmeal\", \"Breakfast Pastry\", \"Hamburger\", \"Bean Burger\", \"Potato\", \"Corn\", \n",
    "    \"Ketchup\", \"Mustard\", \"Mayonnaise\", \"Coleslaw\", \"Rice\", \"Cornbread\", \"Frankfurters\", \n",
    "    \"Macaroni Salad\", \"Baked Bean\", \"Broccoli\", \"Jello\", \"Hard Cooked Eggs\", \n",
    "    \"Poultry Cacciatore\", \"Soy Cacciatore\", \"Pasta and Bean Casserole\", \"Lettuce\", \n",
    "    \"Salad Dressing\", \"Cream of Wheat\", \"Breaded Chicken Patty\", \"Pinto Beans\", \n",
    "    \"Spinach\", \"Noodle\", \"Carrot\", \"Meat Sauce Pasta Casserole\", \n",
    "    \"Soy Pasta Sauce Pasta Casserole\", \"Breaded Fish\", \"Creamed Soy Crumble\", \n",
    "    \"Creamed Beef\", \"Bean Paste\", \"Cocktail Sauce\", \"Tartar\", \"Vegetable Soup\", \n",
    "    \"Pancake\", \"Syrup\", \"Pudding\", \"Cheese Steak\", \"Tofu Oat Burger\", \"Flour Tortilla\"\n",
    "]"
   ]
  },
  {
   "cell_type": "code",
   "execution_count": 17,
   "id": "d722769a-0b0d-4359-b86f-b0a17087bf00",
   "metadata": {},
   "outputs": [
    {
     "name": "stdout",
     "output_type": "stream",
     "text": [
      "Cost of diet for M's of age 35 is $2.99 per day.\n",
      "\n",
      "The diet will consist of (in 100s of grams or milliliters):\n",
      "Hot chocolate / Cocoa, made with no sugar added dry mix and low fat milk    5.12\n",
      "Egg, yolk only, raw                                                         0.36\n",
      "Peanut butter, lower sugar                                                  0.21\n",
      "Tortilla, corn                                                              2.37\n",
      "Rice, white, cooked, made with margarine                                    5.11\n",
      "Potato, roasted, from fresh, peel eaten, no added fat                       3.26\n",
      "Mustard greens, fresh, cooked, no added fat                                 0.84\n",
      "dtype: float64\n",
      "\n",
      "With the following nutritional outcomes of interest:\n",
      "                    Outcome  Recommendation\n",
      "Nutrient                                   \n",
      "Energy               3000.0          3000.0\n",
      "Protein           66.096445            56.0\n",
      "Carbohydrate     325.645173           130.0\n",
      "Dietary Fiber          30.8            30.8\n",
      "Linoleic Acid     54.677766            17.0\n",
      "Linolenic Acid     5.280992             1.6\n",
      "Calcium         1289.512925          1000.0\n",
      "Iron              15.357666             8.0\n",
      "Magnesium        505.164328           420.0\n",
      "Phosphorus      2213.747045           700.0\n",
      "Potassium            4700.0          4700.0\n",
      "Zinc                   11.0            11.0\n",
      "Copper             1.641344             0.9\n",
      "Selenium          84.651892            55.0\n",
      "Vitamin A       2158.784015           900.0\n",
      "Vitamin E         41.030896            15.0\n",
      "Vitamin D              15.0            15.0\n",
      "Vitamin C              90.0            90.0\n",
      "Thiamin            1.314634             1.2\n",
      "Riboflavin         2.165508             1.3\n",
      "Niacin            17.857868            16.0\n",
      "Vitamin B6         8.060384             1.3\n",
      "Vitamin B12        3.455825             2.4\n",
      "Choline               550.0           550.0\n",
      "Vitamin K        418.811886           120.0\n",
      "Folate            408.84794           400.0\n",
      "Sodium         -2176.501282          2300.0\n",
      "\n",
      "Constraining nutrients are:\n",
      "['Energy', 'Dietary Fiber', 'Potassium', 'Zinc', 'Vitamin D', 'Vitamin C', 'Choline']\n"
     ]
    },
    {
     "data": {
      "text/plain": [
       "'2.99'"
      ]
     },
     "execution_count": 17,
     "metadata": {},
     "output_type": "execute_result"
    }
   ],
   "source": [
    "pen_nutrients = nutrient_search(pen_food_items, nutrients, cut = False)\n",
    "solvercomplete(sex, age, recipes, pen_nutrients, bmin, bmax)"
   ]
  },
  {
   "cell_type": "code",
   "execution_count": 24,
   "id": "5b593410-0b2f-4cd7-8b8d-b707489ff83c",
   "metadata": {},
   "outputs": [],
   "source": [
    "flo_food_items = [\n",
    "    \"Pancake\", \"Fresh Fruit\", \"Syrup\", \"Biscuit\", \"Jelly\", \"Hashbrown Potato\", \n",
    "    \"Sugar Packet\", \"Meatloaf Patty\", \"Mashed Potato\", \"Cabbage\", \"Sweet Pea\", \n",
    "    \"Dried Beans\", \"Meatball\", \"Italian Red Sauce\", \"Sausage\", \"Buttery Oatmeal\", \n",
    "    \"Potato Salad\", \"Fudge Brownies\", \"Baked Bean\", \"Rice\", \"Green Beans\", \n",
    "    \"Broccoli\", \"Cookie\", \"Tortilla\", \"Lettuce\", \"Pasta Salad\", \"Herbed Chicken Leg\", \n",
    "    \"Bran Flaked Cereal\", \"Carrot\", \"Scrambled Egg\", \"Vegetarian Cheese\", \"Oatmeal\", \n",
    "    \"Toast\", \"Rice\", \"Pasta\", \"Bread\", \"Orange\", \"Banana\", \"Apple\", \"Margarine\", \n",
    "    \"Tea\", \"Coffee\", \"Corn\", \"Sloppy Joe\", \"Taco Skillet\", \"Dressing\", \"Gravy\", \n",
    "    \"Grits\", \"Turkey\", \"Country Patty\", \"Pasta\", \"Buffalo Chicken Patty\", \"Cheese\", \n",
    "    \"Coleslaw\", \"Southern BBQ\", \"Bran Muffin\", \"Blueberry Muffin\", \"Potato\"\n",
    "]"
   ]
  },
  {
   "cell_type": "code",
   "execution_count": 25,
   "id": "4f4d7d4e-985a-4842-987c-64a625f55505",
   "metadata": {},
   "outputs": [
    {
     "name": "stdout",
     "output_type": "stream",
     "text": [
      "Cost of diet for M's of age 35 is $4.36 per day.\n",
      "\n",
      "The diet will consist of (in 100s of grams or milliliters):\n",
      "Liverwurst                                               1.56\n",
      "Tortilla, corn                                           0.51\n",
      "Pasta, whole grain, cooked                               1.63\n",
      "Rice, white, cooked, made with margarine                 2.04\n",
      "Cereal, rice flakes                                      0.21\n",
      "Oatmeal cereal, baby food, dry, instant                  0.68\n",
      "Potato, roasted, from fresh, peel eaten, no added fat    6.81\n",
      "Cabbage, green, raw                                      0.30\n",
      "Corn oil                                                 0.59\n",
      "dtype: float64\n",
      "\n",
      "With the following nutritional outcomes of interest:\n",
      "                    Outcome  Recommendation\n",
      "Nutrient                                   \n",
      "Energy               3000.0          3000.0\n",
      "Protein           64.848741            56.0\n",
      "Carbohydrate     325.214302           130.0\n",
      "Dietary Fiber          30.8            30.8\n",
      "Linoleic Acid     57.668366            17.0\n",
      "Linolenic Acid     3.439605             1.6\n",
      "Calcium              1000.0          1000.0\n",
      "Iron              80.050028             8.0\n",
      "Magnesium        430.875093           420.0\n",
      "Phosphorus      1537.278486           700.0\n",
      "Potassium            4700.0          4700.0\n",
      "Zinc              19.155519            11.0\n",
      "Copper             2.023194             0.9\n",
      "Selenium         183.856221            55.0\n",
      "Vitamin A       7462.130235           900.0\n",
      "Vitamin E         32.383749            15.0\n",
      "Vitamin D              15.0            15.0\n",
      "Vitamin C              90.0            90.0\n",
      "Thiamin            2.751274             1.2\n",
      "Riboflavin         4.288304             1.3\n",
      "Niacin            50.906379            16.0\n",
      "Vitamin B6         6.239337             1.3\n",
      "Vitamin B12        35.55522             2.4\n",
      "Choline               550.0           550.0\n",
      "Vitamin K             120.0           120.0\n",
      "Folate            676.40073           400.0\n",
      "Sodium              -2300.0          2300.0\n",
      "\n",
      "Constraining nutrients are:\n",
      "['Energy', 'Dietary Fiber', 'Calcium', 'Potassium', 'Vitamin D', 'Vitamin C', 'Choline', 'Vitamin K']\n"
     ]
    },
    {
     "data": {
      "text/plain": [
       "'4.36'"
      ]
     },
     "execution_count": 25,
     "metadata": {},
     "output_type": "execute_result"
    }
   ],
   "source": [
    "flo_nutrients = nutrient_search(flo_food_items, nutrients, cut = False)\n",
    "solvercomplete(sex, age,recipes, flo_nutrients, bmin, bmax)"
   ]
  },
  {
   "cell_type": "code",
   "execution_count": 33,
   "id": "6b5c3220-3e70-4698-836c-698d223e466f",
   "metadata": {},
   "outputs": [
    {
     "name": "stdout",
     "output_type": "stream",
     "text": [
      "Cost of diet for M's of age 35 is $2.94 per day.\n",
      "\n",
      "The diet will consist of (in 100s of grams or milliliters):\n",
      "Hot chocolate / Cocoa, made with no sugar added dry mix and low fat milk    3.42\n",
      "Egg, yolk only, raw                                                         0.37\n",
      "Peanut butter, lower sugar                                                  0.90\n",
      "Rice, white, cooked, made with margarine                                    5.34\n",
      "Cereal (Kellogg's All-Bran)                                                 0.35\n",
      "Potato, roasted, from fresh, peel eaten, no added fat                       3.60\n",
      "Mustard greens, fresh, cooked, no added fat                                 0.69\n",
      "dtype: float64\n",
      "\n",
      "With the following nutritional outcomes of interest:\n",
      "                    Outcome  Recommendation\n",
      "Nutrient                                   \n",
      "Energy               3000.0          3000.0\n",
      "Protein           67.673624            56.0\n",
      "Carbohydrate     248.200004           130.0\n",
      "Dietary Fiber          30.8            30.8\n",
      "Linoleic Acid     65.192793            17.0\n",
      "Linolenic Acid     5.536589             1.6\n",
      "Calcium              1000.0          1000.0\n",
      "Iron              20.164762             8.0\n",
      "Magnesium        534.835522           420.0\n",
      "Phosphorus      1865.974625           700.0\n",
      "Potassium            4700.0          4700.0\n",
      "Zinc              13.700635            11.0\n",
      "Copper             2.072185             0.9\n",
      "Selenium           73.64502            55.0\n",
      "Vitamin A       2304.807404           900.0\n",
      "Vitamin E         47.639159            15.0\n",
      "Vitamin D              15.0            15.0\n",
      "Vitamin C              90.0            90.0\n",
      "Thiamin            1.937324             1.2\n",
      "Riboflavin         2.574874             1.3\n",
      "Niacin            31.009648            16.0\n",
      "Vitamin B6        12.333991             1.3\n",
      "Vitamin B12        9.198649             2.4\n",
      "Choline               550.0           550.0\n",
      "Vitamin K        392.664805           120.0\n",
      "Folate           964.436425           400.0\n",
      "Sodium         -2233.745371          2300.0\n",
      "\n",
      "Constraining nutrients are:\n",
      "['Energy', 'Dietary Fiber', 'Calcium', 'Potassium', 'Vitamin D', 'Vitamin C', 'Choline']\n"
     ]
    },
    {
     "data": {
      "text/plain": [
       "'2.94'"
      ]
     },
     "execution_count": 33,
     "metadata": {},
     "output_type": "execute_result"
    }
   ],
   "source": [
    "# This returns a min-cost diet by using food items from across the 3 state prison menus.\n",
    "\n",
    "combined_nutrients = nutrient_search(cal_food_items + pen_food_items + flo_food_items, nutrients)\n",
    "solvercomplete(sex, age,recipes, combined_nutrients, bmin, bmax)"
   ]
  }
 ],
 "metadata": {
  "kernelspec": {
   "display_name": "Python 3 (ipykernel)",
   "language": "python",
   "name": "python3"
  },
  "language_info": {
   "codemirror_mode": {
    "name": "ipython",
    "version": 3
   },
   "file_extension": ".py",
   "mimetype": "text/x-python",
   "name": "python",
   "nbconvert_exporter": "python",
   "pygments_lexer": "ipython3",
   "version": "3.11.11"
  }
 },
 "nbformat": 4,
 "nbformat_minor": 5
}
